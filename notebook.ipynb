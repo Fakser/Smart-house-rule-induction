{
 "metadata": {
  "language_info": {
   "codemirror_mode": {
    "name": "ipython",
    "version": 3
   },
   "file_extension": ".py",
   "mimetype": "text/x-python",
   "name": "python",
   "nbconvert_exporter": "python",
   "pygments_lexer": "ipython3",
   "version": "3.7.4-final"
  },
  "orig_nbformat": 2,
  "kernelspec": {
   "name": "Python 3.7.4 64-bit ('base': conda)",
   "display_name": "Python 3.7.4 64-bit ('base': conda)",
   "metadata": {
    "interpreter": {
     "hash": "5bb0378d4ee4c0aff941e0dc4c26640714a7475a262217eccf73e6de1579f1e3"
    }
   }
  }
 },
 "nbformat": 4,
 "nbformat_minor": 2,
 "cells": [
  {
   "cell_type": "code",
   "execution_count": 1,
   "metadata": {},
   "outputs": [],
   "source": [
    "import requests\n",
    "import pandas as pd \n",
    "import numpy as np\n",
    "from copy import deepcopy"
   ]
  },
  {
   "cell_type": "code",
   "execution_count": 2,
   "metadata": {},
   "outputs": [
    {
     "output_type": "execute_result",
     "data": {
      "text/plain": [
       "dict_keys(['room_Jan', 'room_Jan_synchronized', 'external_sensors'])"
      ]
     },
     "metadata": {},
     "execution_count": 2
    }
   ],
   "source": [
    "data = requests.get('https://e5a2995573e6.ngrok.io/data/10000/6ytwk4ivTB7QkmlL0QPA1HNQ7NCOAb6Y').json()\n",
    "data.keys()"
   ]
  },
  {
   "cell_type": "code",
   "execution_count": 3,
   "metadata": {},
   "outputs": [],
   "source": [
    "real_data_df = pd.DataFrame(data['room_Jan'])"
   ]
  },
  {
   "cell_type": "code",
   "execution_count": 4,
   "metadata": {},
   "outputs": [],
   "source": [
    "# During the analysis I didn't know which column represents sensors, and which represents devices. \n",
    "# That is why I have performed some data analysis to determine it. Also all sensors values have been \n",
    "# standarized, so that machine learning algorithms can converge easly to global minimum of \n",
    "# cost function. "
   ]
  },
  {
   "cell_type": "code",
   "execution_count": 5,
   "metadata": {},
   "outputs": [],
   "source": [
    "columns = deepcopy(real_data_df.columns)"
   ]
  },
  {
   "cell_type": "code",
   "execution_count": 6,
   "metadata": {
    "tags": []
   },
   "outputs": [
    {
     "output_type": "stream",
     "name": "stdout",
     "text": [
      "count                          400\nunique                         400\ntop       Sat Oct  3 15:29:12 2020\nfreq                             1\nName: date, dtype: object\n"
     ]
    },
    {
     "output_type": "execute_result",
     "data": {
      "text/plain": [
       "array(['Sat Oct  3 14:02:15 2020', 'Sat Oct  3 14:02:35 2020',\n",
       "       'Sat Oct  3 14:02:55 2020', 'Sat Oct  3 14:03:15 2020',\n",
       "       'Sat Oct  3 14:03:35 2020', 'Sat Oct  3 14:03:55 2020',\n",
       "       'Sat Oct  3 14:04:15 2020', 'Sat Oct  3 14:04:35 2020',\n",
       "       'Sat Oct  3 14:04:55 2020', 'Sat Oct  3 14:05:15 2020',\n",
       "       'Sat Oct  3 14:05:35 2020', 'Sat Oct  3 14:05:55 2020',\n",
       "       'Sat Oct  3 14:06:15 2020', 'Sat Oct  3 14:06:36 2020',\n",
       "       'Sat Oct  3 14:06:56 2020', 'Sat Oct  3 14:07:16 2020',\n",
       "       'Sat Oct  3 14:07:36 2020', 'Sat Oct  3 14:07:56 2020',\n",
       "       'Sat Oct  3 14:08:16 2020', 'Sat Oct  3 14:08:36 2020',\n",
       "       'Sat Oct  3 14:08:56 2020', 'Sat Oct  3 14:09:16 2020',\n",
       "       'Sat Oct  3 14:09:36 2020', 'Sat Oct  3 14:09:56 2020',\n",
       "       'Sat Oct  3 14:10:16 2020', 'Sat Oct  3 14:10:36 2020',\n",
       "       'Sat Oct  3 14:10:56 2020', 'Sat Oct  3 14:11:17 2020',\n",
       "       'Sat Oct  3 14:11:37 2020', 'Sat Oct  3 14:11:57 2020',\n",
       "       'Sat Oct  3 14:12:17 2020', 'Sat Oct  3 14:12:37 2020',\n",
       "       'Sat Oct  3 14:12:57 2020', 'Sat Oct  3 14:13:17 2020',\n",
       "       'Sat Oct  3 14:13:37 2020', 'Sat Oct  3 14:13:57 2020',\n",
       "       'Sat Oct  3 14:14:17 2020', 'Sat Oct  3 14:14:37 2020',\n",
       "       'Sat Oct  3 14:14:57 2020', 'Sat Oct  3 14:15:17 2020',\n",
       "       'Sat Oct  3 14:15:37 2020', 'Sat Oct  3 14:15:57 2020',\n",
       "       'Sat Oct  3 14:16:18 2020', 'Sat Oct  3 14:16:38 2020',\n",
       "       'Sat Oct  3 14:16:58 2020', 'Sat Oct  3 14:17:18 2020',\n",
       "       'Sat Oct  3 14:17:38 2020', 'Sat Oct  3 14:17:58 2020',\n",
       "       'Sat Oct  3 14:18:18 2020', 'Sat Oct  3 14:18:38 2020',\n",
       "       'Sat Oct  3 14:18:58 2020', 'Sat Oct  3 14:19:18 2020',\n",
       "       'Sat Oct  3 14:19:38 2020', 'Sat Oct  3 14:19:58 2020',\n",
       "       'Sat Oct  3 14:20:18 2020', 'Sat Oct  3 14:20:39 2020',\n",
       "       'Sat Oct  3 14:20:59 2020', 'Sat Oct  3 14:21:19 2020',\n",
       "       'Sat Oct  3 14:21:39 2020', 'Sat Oct  3 14:21:59 2020',\n",
       "       'Sat Oct  3 14:22:19 2020', 'Sat Oct  3 14:22:39 2020',\n",
       "       'Sat Oct  3 14:22:59 2020', 'Sat Oct  3 14:23:19 2020',\n",
       "       'Sat Oct  3 14:23:39 2020', 'Sat Oct  3 14:23:59 2020',\n",
       "       'Sat Oct  3 14:24:19 2020', 'Sat Oct  3 14:24:39 2020',\n",
       "       'Sat Oct  3 14:24:59 2020', 'Sat Oct  3 14:25:19 2020',\n",
       "       'Sat Oct  3 14:25:40 2020', 'Sat Oct  3 14:26:00 2020',\n",
       "       'Sat Oct  3 14:26:20 2020', 'Sat Oct  3 14:26:40 2020',\n",
       "       'Sat Oct  3 14:27:00 2020', 'Sat Oct  3 14:27:20 2020',\n",
       "       'Sat Oct  3 14:27:40 2020', 'Sat Oct  3 14:28:00 2020',\n",
       "       'Sat Oct  3 14:28:20 2020', 'Sat Oct  3 14:28:40 2020',\n",
       "       'Sat Oct  3 14:29:00 2020', 'Sat Oct  3 14:29:20 2020',\n",
       "       'Sat Oct  3 14:29:40 2020', 'Sat Oct  3 14:30:00 2020',\n",
       "       'Sat Oct  3 14:30:20 2020', 'Sat Oct  3 14:30:41 2020',\n",
       "       'Sat Oct  3 14:31:00 2020', 'Sat Oct  3 14:31:01 2020',\n",
       "       'Sat Oct  3 14:31:21 2020', 'Sat Oct  3 14:31:41 2020',\n",
       "       'Sat Oct  3 14:32:01 2020', 'Sat Oct  3 14:32:21 2020',\n",
       "       'Sat Oct  3 14:32:41 2020', 'Sat Oct  3 14:33:01 2020',\n",
       "       'Sat Oct  3 14:33:21 2020', 'Sat Oct  3 14:33:41 2020',\n",
       "       'Sat Oct  3 14:34:01 2020', 'Sat Oct  3 14:34:21 2020',\n",
       "       'Sat Oct  3 14:34:41 2020', 'Sat Oct  3 14:35:01 2020',\n",
       "       'Sat Oct  3 14:35:21 2020', 'Sat Oct  3 14:35:41 2020',\n",
       "       'Sat Oct  3 14:36:02 2020', 'Sat Oct  3 14:36:22 2020',\n",
       "       'Sat Oct  3 14:36:42 2020', 'Sat Oct  3 14:37:02 2020',\n",
       "       'Sat Oct  3 14:37:22 2020', 'Sat Oct  3 14:37:42 2020',\n",
       "       'Sat Oct  3 14:38:02 2020', 'Sat Oct  3 14:38:22 2020',\n",
       "       'Sat Oct  3 14:38:42 2020', 'Sat Oct  3 14:39:02 2020',\n",
       "       'Sat Oct  3 14:39:22 2020', 'Sat Oct  3 14:39:42 2020',\n",
       "       'Sat Oct  3 14:40:02 2020', 'Sat Oct  3 14:40:22 2020',\n",
       "       'Sat Oct  3 14:40:43 2020', 'Sat Oct  3 14:41:03 2020',\n",
       "       'Sat Oct  3 14:41:23 2020', 'Sat Oct  3 14:41:43 2020',\n",
       "       'Sat Oct  3 14:42:03 2020', 'Sat Oct  3 14:42:23 2020',\n",
       "       'Sat Oct  3 14:42:43 2020', 'Sat Oct  3 14:43:03 2020',\n",
       "       'Sat Oct  3 14:43:23 2020', 'Sat Oct  3 14:43:43 2020',\n",
       "       'Sat Oct  3 14:44:03 2020', 'Sat Oct  3 14:44:23 2020',\n",
       "       'Sat Oct  3 14:44:43 2020', 'Sat Oct  3 14:45:03 2020',\n",
       "       'Sat Oct  3 14:45:23 2020', 'Sat Oct  3 14:45:43 2020',\n",
       "       'Sat Oct  3 14:46:03 2020', 'Sat Oct  3 14:46:24 2020',\n",
       "       'Sat Oct  3 14:46:44 2020', 'Sat Oct  3 14:47:04 2020',\n",
       "       'Sat Oct  3 14:47:24 2020', 'Sat Oct  3 14:47:44 2020',\n",
       "       'Sat Oct  3 14:48:04 2020', 'Sat Oct  3 14:48:24 2020',\n",
       "       'Sat Oct  3 14:48:44 2020', 'Sat Oct  3 14:49:04 2020',\n",
       "       'Sat Oct  3 14:49:24 2020', 'Sat Oct  3 14:49:44 2020',\n",
       "       'Sat Oct  3 14:50:04 2020', 'Sat Oct  3 14:50:24 2020',\n",
       "       'Sat Oct  3 14:50:44 2020', 'Sat Oct  3 14:51:05 2020',\n",
       "       'Sat Oct  3 14:51:25 2020', 'Sat Oct  3 14:51:45 2020',\n",
       "       'Sat Oct  3 14:52:05 2020', 'Sat Oct  3 14:52:25 2020',\n",
       "       'Sat Oct  3 14:52:45 2020', 'Sat Oct  3 14:53:05 2020',\n",
       "       'Sat Oct  3 14:53:25 2020', 'Sat Oct  3 14:53:45 2020',\n",
       "       'Sat Oct  3 14:54:05 2020', 'Sat Oct  3 14:54:25 2020',\n",
       "       'Sat Oct  3 14:54:45 2020', 'Sat Oct  3 14:55:05 2020',\n",
       "       'Sat Oct  3 14:55:25 2020', 'Sat Oct  3 14:55:45 2020',\n",
       "       'Sat Oct  3 14:56:06 2020', 'Sat Oct  3 14:56:26 2020',\n",
       "       'Sat Oct  3 14:56:46 2020', 'Sat Oct  3 14:57:06 2020',\n",
       "       'Sat Oct  3 14:57:26 2020', 'Sat Oct  3 14:57:46 2020',\n",
       "       'Sat Oct  3 14:58:06 2020', 'Sat Oct  3 14:58:26 2020',\n",
       "       'Sat Oct  3 14:58:46 2020', 'Sat Oct  3 14:59:06 2020',\n",
       "       'Sat Oct  3 14:59:26 2020', 'Sat Oct  3 14:59:46 2020',\n",
       "       'Sat Oct  3 15:00:06 2020', 'Sat Oct  3 15:00:26 2020',\n",
       "       'Sat Oct  3 15:00:46 2020', 'Sat Oct  3 15:01:06 2020',\n",
       "       'Sat Oct  3 15:01:26 2020', 'Sat Oct  3 15:01:46 2020',\n",
       "       'Sat Oct  3 15:02:07 2020', 'Sat Oct  3 15:02:27 2020',\n",
       "       'Sat Oct  3 15:02:47 2020', 'Sat Oct  3 15:03:07 2020',\n",
       "       'Sat Oct  3 15:03:27 2020', 'Sat Oct  3 15:03:47 2020',\n",
       "       'Sat Oct  3 15:04:07 2020', 'Sat Oct  3 15:04:27 2020',\n",
       "       'Sat Oct  3 15:04:47 2020', 'Sat Oct  3 15:05:07 2020',\n",
       "       'Sat Oct  3 15:05:27 2020', 'Sat Oct  3 15:05:47 2020',\n",
       "       'Sat Oct  3 15:06:07 2020', 'Sat Oct  3 15:06:27 2020',\n",
       "       'Sat Oct  3 15:06:47 2020', 'Sat Oct  3 15:07:07 2020',\n",
       "       'Sat Oct  3 15:07:28 2020', 'Sat Oct  3 15:07:48 2020',\n",
       "       'Sat Oct  3 15:08:08 2020', 'Sat Oct  3 15:08:28 2020',\n",
       "       'Sat Oct  3 15:08:48 2020', 'Sat Oct  3 15:09:08 2020',\n",
       "       'Sat Oct  3 15:09:28 2020', 'Sat Oct  3 15:09:48 2020',\n",
       "       'Sat Oct  3 15:10:08 2020', 'Sat Oct  3 15:10:28 2020',\n",
       "       'Sat Oct  3 15:10:48 2020', 'Sat Oct  3 15:11:08 2020',\n",
       "       'Sat Oct  3 15:11:28 2020', 'Sat Oct  3 15:11:48 2020',\n",
       "       'Sat Oct  3 15:12:09 2020', 'Sat Oct  3 15:12:29 2020',\n",
       "       'Sat Oct  3 15:12:49 2020', 'Sat Oct  3 15:13:09 2020',\n",
       "       'Sat Oct  3 15:13:29 2020', 'Sat Oct  3 15:13:49 2020',\n",
       "       'Sat Oct  3 15:14:09 2020', 'Sat Oct  3 15:14:29 2020',\n",
       "       'Sat Oct  3 15:14:49 2020', 'Sat Oct  3 15:15:09 2020',\n",
       "       'Sat Oct  3 15:15:29 2020', 'Sat Oct  3 15:15:49 2020',\n",
       "       'Sat Oct  3 15:16:09 2020', 'Sat Oct  3 15:16:29 2020',\n",
       "       'Sat Oct  3 15:16:50 2020', 'Sat Oct  3 15:17:10 2020',\n",
       "       'Sat Oct  3 15:17:30 2020', 'Sat Oct  3 15:17:50 2020',\n",
       "       'Sat Oct  3 15:18:10 2020', 'Sat Oct  3 15:18:30 2020',\n",
       "       'Sat Oct  3 15:18:50 2020', 'Sat Oct  3 15:19:10 2020',\n",
       "       'Sat Oct  3 15:19:30 2020', 'Sat Oct  3 15:19:50 2020',\n",
       "       'Sat Oct  3 15:20:10 2020', 'Sat Oct  3 15:20:30 2020',\n",
       "       'Sat Oct  3 15:20:50 2020', 'Sat Oct  3 15:21:10 2020',\n",
       "       'Sat Oct  3 15:21:31 2020', 'Sat Oct  3 15:21:51 2020',\n",
       "       'Sat Oct  3 15:22:11 2020', 'Sat Oct  3 15:22:31 2020',\n",
       "       'Sat Oct  3 15:22:51 2020', 'Sat Oct  3 15:23:11 2020',\n",
       "       'Sat Oct  3 15:23:31 2020', 'Sat Oct  3 15:23:51 2020',\n",
       "       'Sat Oct  3 15:24:11 2020', 'Sat Oct  3 15:24:31 2020',\n",
       "       'Sat Oct  3 15:24:51 2020', 'Sat Oct  3 15:25:11 2020',\n",
       "       'Sat Oct  3 15:25:31 2020', 'Sat Oct  3 15:25:51 2020',\n",
       "       'Sat Oct  3 15:26:11 2020', 'Sat Oct  3 15:26:31 2020',\n",
       "       'Sat Oct  3 15:26:52 2020', 'Sat Oct  3 15:27:12 2020',\n",
       "       'Sat Oct  3 15:27:32 2020', 'Sat Oct  3 15:27:52 2020',\n",
       "       'Sat Oct  3 15:28:12 2020', 'Sat Oct  3 15:28:32 2020',\n",
       "       'Sat Oct  3 15:28:52 2020', 'Sat Oct  3 15:29:12 2020',\n",
       "       'Sat Oct  3 15:29:32 2020', 'Sat Oct  3 15:29:52 2020',\n",
       "       'Sat Oct  3 15:30:12 2020', 'Sat Oct  3 15:30:32 2020',\n",
       "       'Sat Oct  3 15:30:52 2020', 'Sat Oct  3 15:31:12 2020',\n",
       "       'Sat Oct  3 15:31:32 2020', 'Sat Oct  3 15:31:52 2020',\n",
       "       'Sat Oct  3 15:32:12 2020', 'Sat Oct  3 15:32:32 2020',\n",
       "       'Sat Oct  3 15:32:53 2020', 'Sat Oct  3 15:33:13 2020',\n",
       "       'Sat Oct  3 15:33:33 2020', 'Sat Oct  3 15:33:53 2020',\n",
       "       'Sat Oct  3 15:34:13 2020', 'Sat Oct  3 15:34:33 2020',\n",
       "       'Sat Oct  3 15:34:53 2020', 'Sat Oct  3 15:35:13 2020',\n",
       "       'Sat Oct  3 15:35:33 2020', 'Sat Oct  3 15:35:53 2020',\n",
       "       'Sat Oct  3 15:36:13 2020', 'Sat Oct  3 15:36:33 2020',\n",
       "       'Sat Oct  3 15:36:53 2020', 'Sat Oct  3 15:37:13 2020',\n",
       "       'Sat Oct  3 15:37:34 2020', 'Sat Oct  3 15:37:54 2020',\n",
       "       'Sat Oct  3 15:38:14 2020', 'Sat Oct  3 15:38:34 2020',\n",
       "       'Sat Oct  3 15:38:54 2020', 'Sat Oct  3 15:39:14 2020',\n",
       "       'Sat Oct  3 15:39:34 2020', 'Sat Oct  3 15:39:54 2020',\n",
       "       'Sat Oct  3 15:40:14 2020', 'Sat Oct  3 15:40:34 2020',\n",
       "       'Sat Oct  3 15:40:54 2020', 'Sat Oct  3 15:41:14 2020',\n",
       "       'Sat Oct  3 15:41:34 2020', 'Sat Oct  3 15:41:54 2020',\n",
       "       'Sat Oct  3 15:42:15 2020', 'Sat Oct  3 15:42:35 2020',\n",
       "       'Sat Oct  3 15:42:55 2020', 'Sat Oct  3 15:43:15 2020',\n",
       "       'Sat Oct  3 15:43:35 2020', 'Sat Oct  3 15:43:55 2020',\n",
       "       'Sat Oct  3 15:44:15 2020', 'Sat Oct  3 15:44:35 2020',\n",
       "       'Sat Oct  3 15:44:55 2020', 'Sat Oct  3 15:45:15 2020',\n",
       "       'Sat Oct  3 15:45:35 2020', 'Sat Oct  3 15:45:55 2020',\n",
       "       'Sat Oct  3 15:46:15 2020', 'Sat Oct  3 15:46:35 2020',\n",
       "       'Sat Oct  3 15:46:56 2020', 'Sat Oct  3 15:47:15 2020',\n",
       "       'Sat Oct  3 15:47:36 2020', 'Sat Oct  3 15:47:56 2020',\n",
       "       'Sat Oct  3 15:48:16 2020', 'Sat Oct  3 15:48:36 2020',\n",
       "       'Sat Oct  3 15:48:56 2020', 'Sat Oct  3 15:49:16 2020',\n",
       "       'Sat Oct  3 15:49:36 2020', 'Sat Oct  3 15:49:56 2020',\n",
       "       'Sat Oct  3 15:50:16 2020', 'Sat Oct  3 15:50:36 2020',\n",
       "       'Sat Oct  3 15:50:56 2020', 'Sat Oct  3 15:51:16 2020',\n",
       "       'Sat Oct  3 15:51:36 2020', 'Sat Oct  3 15:51:56 2020',\n",
       "       'Sat Oct  3 15:52:16 2020', 'Sat Oct  3 15:52:36 2020',\n",
       "       'Sat Oct  3 15:52:56 2020', 'Sat Oct  3 15:53:17 2020',\n",
       "       'Sat Oct  3 15:53:37 2020', 'Sat Oct  3 15:53:57 2020',\n",
       "       'Sat Oct  3 15:54:17 2020', 'Sat Oct  3 15:54:37 2020',\n",
       "       'Sat Oct  3 15:54:57 2020', 'Sat Oct  3 15:55:17 2020',\n",
       "       'Sat Oct  3 15:55:37 2020', 'Sat Oct  3 15:55:57 2020',\n",
       "       'Sat Oct  3 15:56:17 2020', 'Sat Oct  3 15:56:37 2020',\n",
       "       'Sat Oct  3 15:56:57 2020', 'Sat Oct  3 15:57:17 2020',\n",
       "       'Sat Oct  3 15:57:38 2020', 'Sat Oct  3 15:57:59 2020',\n",
       "       'Sat Oct  3 15:58:20 2020', 'Sat Oct  3 15:58:39 2020',\n",
       "       'Sat Oct  3 15:58:59 2020', 'Sat Oct  3 15:59:20 2020',\n",
       "       'Sat Oct  3 15:59:33 2020', 'Sat Oct  3 16:00:05 2020',\n",
       "       'Sat Oct  3 16:00:18 2020', 'Sat Oct  3 16:00:38 2020',\n",
       "       'Sat Oct  3 16:00:58 2020', 'Sat Oct  3 16:01:18 2020',\n",
       "       'Sat Oct  3 16:01:38 2020', 'Sat Oct  3 16:01:58 2020',\n",
       "       'Sat Oct  3 16:02:18 2020', 'Sat Oct  3 16:02:38 2020',\n",
       "       'Sat Oct  3 16:02:58 2020', 'Sat Oct  3 16:03:18 2020',\n",
       "       'Sat Oct  3 16:03:39 2020', 'Sat Oct  3 16:03:59 2020',\n",
       "       'Sat Oct  3 16:04:19 2020', 'Sat Oct  3 16:04:39 2020',\n",
       "       'Sat Oct  3 16:04:59 2020', 'Sat Oct  3 16:05:19 2020',\n",
       "       'Sat Oct  3 16:05:39 2020', 'Sat Oct  3 16:05:59 2020',\n",
       "       'Sat Oct  3 16:06:19 2020', 'Sat Oct  3 16:06:39 2020',\n",
       "       'Sat Oct  3 16:06:59 2020', 'Sat Oct  3 16:07:19 2020',\n",
       "       'Sat Oct  3 16:07:40 2020', 'Sat Oct  3 16:08:00 2020',\n",
       "       'Sat Oct  3 16:08:19 2020', 'Sat Oct  3 17:58:21 2020',\n",
       "       'Sat Oct  3 17:58:41 2020', 'Sat Oct  3 18:05:23 2020',\n",
       "       'Sat Oct  3 18:05:43 2020', 'Sat Oct  3 18:06:03 2020',\n",
       "       'Sat Oct  3 18:06:23 2020', 'Sat Oct  3 18:06:43 2020',\n",
       "       'Sat Oct  3 18:07:03 2020', 'Sat Oct  3 18:07:23 2020',\n",
       "       'Sat Oct  3 18:07:43 2020', 'Sat Oct  3 18:08:03 2020',\n",
       "       'Sat Oct  3 18:08:23 2020', 'Sat Oct  3 18:08:43 2020',\n",
       "       'Sat Oct  3 18:09:03 2020', 'Sat Oct  3 18:09:23 2020',\n",
       "       'Sat Oct  3 18:09:43 2020', 'Sat Oct  3 18:10:04 2020',\n",
       "       'Sat Oct  3 18:10:24 2020', 'Sat Oct  3 18:10:44 2020',\n",
       "       'Sat Oct  3 18:11:04 2020', 'Sat Oct  3 18:11:24 2020'],\n",
       "      dtype=object)"
      ]
     },
     "metadata": {},
     "execution_count": 6
    }
   ],
   "source": [
    "print(real_data_df[columns[0]].describe())\n",
    "real_data_df[columns[0]].unique()\n",
    "# strings representing date, primary key of each table in the smarthouse project database"
   ]
  },
  {
   "cell_type": "code",
   "execution_count": 7,
   "metadata": {
    "tags": []
   },
   "outputs": [
    {
     "output_type": "stream",
     "name": "stdout",
     "text": [
      "count    400.000000\nmean       0.541400\nstd        0.118159\nmin        0.050000\n25%        0.520000\n50%        0.560000\n75%        0.600000\nmax        0.790000\nName: sensor_light, dtype: float64\n"
     ]
    },
    {
     "output_type": "execute_result",
     "data": {
      "text/plain": [
       "array([0.59, 0.6 , 0.56, 0.63, 0.61, 0.57, 0.52, 0.58, 0.5 , 0.65, 0.62,\n",
       "       0.51, 0.75, 0.4 , 0.53, 0.55, 0.54, 0.78, 0.74, 0.76, 0.68, 0.79,\n",
       "       0.64, 0.71, 0.48, 0.73, 0.72, 0.77, 0.44, 0.42, 0.67, 0.49, 0.47,\n",
       "       0.45, 0.46, 0.69, 0.43, 0.66, 0.25, 0.15, 0.14, 0.13, 0.12, 0.11,\n",
       "       0.1 , 0.09, 0.08, 0.07, 0.06, 0.05])"
      ]
     },
     "metadata": {},
     "execution_count": 7
    }
   ],
   "source": [
    "print(real_data_df[columns[1]].describe())\n",
    "real_data_df[columns[1]].unique()\n",
    "# values between 0.0 and 0.65, it is probably light sensor"
   ]
  },
  {
   "cell_type": "code",
   "execution_count": 8,
   "metadata": {
    "tags": []
   },
   "outputs": [
    {
     "output_type": "stream",
     "name": "stdout",
     "text": [
      "count     400.0\nunique      4.0\ntop        22.4\nfreq      294.0\nName: sensor_temperature, dtype: float64\n"
     ]
    },
    {
     "output_type": "execute_result",
     "data": {
      "text/plain": [
       "array([22.4, 'nan', 22.5, 22.6], dtype=object)"
      ]
     },
     "metadata": {},
     "execution_count": 8
    }
   ],
   "source": [
    "print(real_data_df[columns[2]].describe())\n",
    "real_data_df[columns[2]].unique()\n",
    "# real values between 0 and 22.1, also some 'nan' included, probably it is temperature sensor"
   ]
  },
  {
   "cell_type": "code",
   "execution_count": 9,
   "metadata": {
    "tags": []
   },
   "outputs": [
    {
     "output_type": "stream",
     "name": "stdout",
     "text": [
      "count    400.000000\nmean       0.780000\nstd        0.414765\nmin        0.000000\n25%        1.000000\n50%        1.000000\n75%        1.000000\nmax        1.000000\nName: sensor_desktop, dtype: float64\n"
     ]
    },
    {
     "output_type": "execute_result",
     "data": {
      "text/plain": [
       "array([1, 0], dtype=int64)"
      ]
     },
     "metadata": {},
     "execution_count": 9
    }
   ],
   "source": [
    "print(real_data_df[columns[3]].describe())\n",
    "real_data_df[columns[3]].unique()\n",
    "# only zeros and ones, it is controllable divice"
   ]
  },
  {
   "cell_type": "code",
   "execution_count": 10,
   "metadata": {
    "tags": []
   },
   "outputs": [
    {
     "output_type": "stream",
     "name": "stdout",
     "text": [
      "count    400.0\nmean       1.0\nstd        0.0\nmin        1.0\n25%        1.0\n50%        1.0\n75%        1.0\nmax        1.0\nName: device_blinds, dtype: float64\n"
     ]
    },
    {
     "output_type": "execute_result",
     "data": {
      "text/plain": [
       "array([1], dtype=int64)"
      ]
     },
     "metadata": {},
     "execution_count": 10
    }
   ],
   "source": [
    "print(real_data_df[columns[4]].describe())\n",
    "real_data_df[columns[4]].unique()\n",
    "# only zeros and ones, it is controllable divice"
   ]
  },
  {
   "cell_type": "code",
   "execution_count": 11,
   "metadata": {
    "tags": []
   },
   "outputs": [
    {
     "output_type": "stream",
     "name": "stdout",
     "text": [
      "count    400.0\nmean       0.0\nstd        0.0\nmin        0.0\n25%        0.0\n50%        0.0\n75%        0.0\nmax        0.0\nName: device_lamp, dtype: float64\n"
     ]
    },
    {
     "output_type": "execute_result",
     "data": {
      "text/plain": [
       "array([0], dtype=int64)"
      ]
     },
     "metadata": {},
     "execution_count": 11
    }
   ],
   "source": [
    "print(real_data_df[columns[5]].describe())\n",
    "real_data_df[columns[5]].unique()\n",
    "# only zeros and ones, it is controllable divice"
   ]
  },
  {
   "cell_type": "code",
   "execution_count": 12,
   "metadata": {},
   "outputs": [],
   "source": [
    "#real_data_df.columns = ['date', 'sensor_1', 'sensor_2', 'device_1', 'device_2', 'device_3']\n",
    "real_data_df.index = real_data_df['date']\n",
    "real_data_df = real_data_df.drop(columns = ['date'])"
   ]
  },
  {
   "cell_type": "code",
   "execution_count": 13,
   "metadata": {},
   "outputs": [
    {
     "output_type": "execute_result",
     "data": {
      "text/plain": [
       "                          sensor_light sensor_temperature  sensor_desktop  \\\n",
       "date                                                                        \n",
       "Sat Oct  3 14:02:15 2020          0.59               22.4               1   \n",
       "Sat Oct  3 14:02:35 2020          0.60               22.4               1   \n",
       "Sat Oct  3 14:02:55 2020          0.60               22.4               1   \n",
       "Sat Oct  3 14:03:15 2020          0.56               22.4               1   \n",
       "Sat Oct  3 14:03:35 2020          0.63               22.4               1   \n",
       "...                                ...                ...             ...   \n",
       "Sat Oct  3 18:10:04 2020          0.06               22.5               1   \n",
       "Sat Oct  3 18:10:24 2020          0.06               22.5               1   \n",
       "Sat Oct  3 18:10:44 2020          0.06               22.6               1   \n",
       "Sat Oct  3 18:11:04 2020          0.05               22.5               1   \n",
       "Sat Oct  3 18:11:24 2020          0.05               22.5               1   \n",
       "\n",
       "                          device_blinds  device_lamp  \n",
       "date                                                  \n",
       "Sat Oct  3 14:02:15 2020              1            0  \n",
       "Sat Oct  3 14:02:35 2020              1            0  \n",
       "Sat Oct  3 14:02:55 2020              1            0  \n",
       "Sat Oct  3 14:03:15 2020              1            0  \n",
       "Sat Oct  3 14:03:35 2020              1            0  \n",
       "...                                 ...          ...  \n",
       "Sat Oct  3 18:10:04 2020              1            0  \n",
       "Sat Oct  3 18:10:24 2020              1            0  \n",
       "Sat Oct  3 18:10:44 2020              1            0  \n",
       "Sat Oct  3 18:11:04 2020              1            0  \n",
       "Sat Oct  3 18:11:24 2020              1            0  \n",
       "\n",
       "[400 rows x 5 columns]"
      ],
      "text/html": "<div>\n<style scoped>\n    .dataframe tbody tr th:only-of-type {\n        vertical-align: middle;\n    }\n\n    .dataframe tbody tr th {\n        vertical-align: top;\n    }\n\n    .dataframe thead th {\n        text-align: right;\n    }\n</style>\n<table border=\"1\" class=\"dataframe\">\n  <thead>\n    <tr style=\"text-align: right;\">\n      <th></th>\n      <th>sensor_light</th>\n      <th>sensor_temperature</th>\n      <th>sensor_desktop</th>\n      <th>device_blinds</th>\n      <th>device_lamp</th>\n    </tr>\n    <tr>\n      <th>date</th>\n      <th></th>\n      <th></th>\n      <th></th>\n      <th></th>\n      <th></th>\n    </tr>\n  </thead>\n  <tbody>\n    <tr>\n      <td>Sat Oct  3 14:02:15 2020</td>\n      <td>0.59</td>\n      <td>22.4</td>\n      <td>1</td>\n      <td>1</td>\n      <td>0</td>\n    </tr>\n    <tr>\n      <td>Sat Oct  3 14:02:35 2020</td>\n      <td>0.60</td>\n      <td>22.4</td>\n      <td>1</td>\n      <td>1</td>\n      <td>0</td>\n    </tr>\n    <tr>\n      <td>Sat Oct  3 14:02:55 2020</td>\n      <td>0.60</td>\n      <td>22.4</td>\n      <td>1</td>\n      <td>1</td>\n      <td>0</td>\n    </tr>\n    <tr>\n      <td>Sat Oct  3 14:03:15 2020</td>\n      <td>0.56</td>\n      <td>22.4</td>\n      <td>1</td>\n      <td>1</td>\n      <td>0</td>\n    </tr>\n    <tr>\n      <td>Sat Oct  3 14:03:35 2020</td>\n      <td>0.63</td>\n      <td>22.4</td>\n      <td>1</td>\n      <td>1</td>\n      <td>0</td>\n    </tr>\n    <tr>\n      <td>...</td>\n      <td>...</td>\n      <td>...</td>\n      <td>...</td>\n      <td>...</td>\n      <td>...</td>\n    </tr>\n    <tr>\n      <td>Sat Oct  3 18:10:04 2020</td>\n      <td>0.06</td>\n      <td>22.5</td>\n      <td>1</td>\n      <td>1</td>\n      <td>0</td>\n    </tr>\n    <tr>\n      <td>Sat Oct  3 18:10:24 2020</td>\n      <td>0.06</td>\n      <td>22.5</td>\n      <td>1</td>\n      <td>1</td>\n      <td>0</td>\n    </tr>\n    <tr>\n      <td>Sat Oct  3 18:10:44 2020</td>\n      <td>0.06</td>\n      <td>22.6</td>\n      <td>1</td>\n      <td>1</td>\n      <td>0</td>\n    </tr>\n    <tr>\n      <td>Sat Oct  3 18:11:04 2020</td>\n      <td>0.05</td>\n      <td>22.5</td>\n      <td>1</td>\n      <td>1</td>\n      <td>0</td>\n    </tr>\n    <tr>\n      <td>Sat Oct  3 18:11:24 2020</td>\n      <td>0.05</td>\n      <td>22.5</td>\n      <td>1</td>\n      <td>1</td>\n      <td>0</td>\n    </tr>\n  </tbody>\n</table>\n<p>400 rows × 5 columns</p>\n</div>"
     },
     "metadata": {},
     "execution_count": 13
    }
   ],
   "source": [
    "real_data_df"
   ]
  },
  {
   "cell_type": "code",
   "execution_count": 14,
   "metadata": {},
   "outputs": [],
   "source": [
    "# Next step is to determine best rule indiction algorithm. Our goal is to find a rule \n",
    "# of behaviours between devices and sensors, so that our algorithm can predict properly when it should\n",
    "# activate each device. 2 algorithms I am going to compare are Decision Trees, Random Forest and Extreeme Gradient Boosted Trees."
   ]
  },
  {
   "cell_type": "code",
   "execution_count": 15,
   "metadata": {},
   "outputs": [],
   "source": [
    "from sklearn.tree import DecisionTreeClassifier\n",
    "from sklearn.ensemble import RandomForestClassifier\n",
    "from xgboost import XGBClassifier\n",
    "from sklearn import metrics\n",
    "\n",
    "from copy import deepcopy\n",
    "import itertools"
   ]
  },
  {
   "cell_type": "code",
   "execution_count": 16,
   "metadata": {},
   "outputs": [],
   "source": [
    "from sklearn.metrics import fbeta_score\n",
    "\n",
    "def f1_score(y_true, y_pred, threshold = 0.5):\n",
    "    y_pred_class = y_pred >= threshold\n",
    "    y_true = y_true == 1\n",
    "    return fbeta_score(y_true, y_pred_class, beta = 1)"
   ]
  },
  {
   "cell_type": "code",
   "execution_count": 17,
   "metadata": {},
   "outputs": [],
   "source": [
    "class AutoTuningHyperparameters(object):\n",
    "    # @staticmethod\n",
    "    # def standarize(X, standarization_rule = 'sensor'):\n",
    "    #     data = deepcopy(X.replace(['nan'], 0))\n",
    "    #     for column_name in data.columns:\n",
    "    #         if standarization_rule in column_name:\n",
    "    #             data[column_name] = (data[column_name] - data[column_name].mean())/data[column_name].std()\n",
    "    #     return data\n",
    "\n",
    "    @staticmethod\n",
    "    def generate_all_possible_params(params):\n",
    "        \n",
    "        params_unpacked = {key: list(np.arange(params[key][0], params[key][1] + params[key][2], params[key][2])) for key in                     params.keys()}\n",
    "        keys, values = zip(*params_unpacked.items())\n",
    "        possible_params = [dict(zip(keys, v)) for v in itertools.product(*values)]\n",
    "        return possible_params\n",
    "\n",
    "    def __init__(self, model, X, y, params, cost):\n",
    "        self.model = model \n",
    "        # X = self.standarize(X) \n",
    "        self.X_train = X[:int(0.7*len(X))]\n",
    "        self.X_test = X[int(0.7*len(X)):]\n",
    "        self.y_train = y[:int(0.7*len(y))]\n",
    "        self.y_test = y[int(0.7*len(y)):]\n",
    "        self.params = params\n",
    "        self.cost = cost\n",
    "        self.best_model = None\n",
    "    \n",
    "    def fit_model(self, params):\n",
    "        model = self.model(**params)\n",
    "        try:\n",
    "            model.fit(self.X_train, self.y_train)\n",
    "            predictions = model.predict(self.X_test)\n",
    "            return model, self.cost(self.y_test, predictions)\n",
    "        except Exception as e:\n",
    "            print(e)\n",
    "            return None, 0\n",
    "    \n",
    "    def grid_search(self, params = None, verbose = 1):\n",
    "        if params:\n",
    "            params = self.generate_all_possible_params(params)\n",
    "        else:\n",
    "            params = self.generate_all_possible_params(self.params)\n",
    "        models = []\n",
    "        for index, parameters in enumerate(params):\n",
    "            model, ratio = self.fit_model(parameters)\n",
    "            models.append([parameters, ratio])\n",
    "\n",
    "            if verbose >= 1:\n",
    "                print('{:.4f}'.format((index+1)/len(params)), end = '\\r')\n",
    "\n",
    "        sorted_models = [[x[0], x[1]] for x in sorted(models, key = lambda x: x[1])]\n",
    "        self.best_model = sorted_models[-1]\n",
    "        return self.best_model[0], self.best_model[1]\n",
    "\n",
    "    def random_search(self, verbose = 1, group_size = 5, iterations = 20, params = None):\n",
    "        if params:\n",
    "            params = self.generate_all_possible_params(params)\n",
    "        else:\n",
    "            params = self.generate_all_possible_params(self.params)\n",
    "\n",
    "        models = []\n",
    "        for iteration in range(iterations):\n",
    "            random_group = np.random.choice(params, group_size)\n",
    "            for random_params in random_group:\n",
    "                model, ratio = self.fit_model(random_params)\n",
    "                models.append([random_params, ratio])\n",
    "\n",
    "            if verbose >= 1:\n",
    "                print('{:.4f}'.format((iteration+1)/iterations), end = '\\r')\n",
    "\n",
    "        sorted_models = [[x[0], x[1]] for x in sorted(models, key = lambda x: x[1])]\n",
    "        self.best_model = sorted_models[-1]\n",
    "        return self.best_model[0], self.best_model[1]\n",
    "\n",
    "    def genetic_search(self):\n",
    "        pass \n",
    "\n",
    "    def auto_tune_pipeline(self, pipeline = ['random', 'grid'], narrow_to = 0.2, params = None):\n",
    "        if params:\n",
    "            params = params\n",
    "        else:\n",
    "            params = self.params\n",
    "        \n",
    "        possible_params_lengths = {key: len([param for param in np.arange(params[key][0], params[key][1], params[key][2])]) for key in list(params.keys())}\n",
    "\n",
    "        for search in pipeline:\n",
    "            if search == 'random':\n",
    "                best_params, score = self.random_search(params = params, group_size = 5, iterations = 50)\n",
    "            elif search == 'grid':\n",
    "                best_params, score = self.random_search(params = params)\n",
    "\n",
    "\n",
    "            for key in best_params.keys():\n",
    "                key_type = type(params[key][2])\n",
    "                params_length = possible_params_lengths[key]\n",
    "                new_min = key_type(best_params[key] - key_type(narrow_to * params_length) * params[key][2])\n",
    "                new_max = key_type(best_params[key] + key_type(narrow_to * params_length) * params[key][2])\n",
    "                if new_min > params[key][0]:\n",
    "                    params[key][0] = new_min\n",
    "                if new_max < params[key][1]:\n",
    "                    params[key][1] = new_max\n",
    "            print('new search ranges for parameters: {}'.format(params))\n",
    "\n",
    "            print('performed {} serach with max score of {} and best parameters {}'.format(search, score, best_params))\n",
    "\n",
    "        return best_params, score\n",
    "\n",
    "\n",
    "    "
   ]
  },
  {
   "cell_type": "code",
   "execution_count": 18,
   "metadata": {},
   "outputs": [
    {
     "output_type": "execute_result",
     "data": {
      "text/plain": [
       "Index(['sensor_light', 'sensor_temperature', 'sensor_desktop', 'device_blinds',\n",
       "       'device_lamp'],\n",
       "      dtype='object')"
      ]
     },
     "metadata": {},
     "execution_count": 18
    }
   ],
   "source": [
    "real_data_df.columns"
   ]
  },
  {
   "cell_type": "code",
   "execution_count": 19,
   "metadata": {},
   "outputs": [],
   "source": [
    "XGB_PARAMS = {'n_estimators ': [20, 300, 20], \n",
    "                'learning_rate': [0.01, 0.1, 0.01], \n",
    "                'max_depth': [3, 300, 30], \n",
    "                'subsample': [0.8, 1, 0.05], \n",
    "                'colsample_bytree': [0.3, 0.8, 0.05],\n",
    "                'gamma': [0, 5, 1],\n",
    "                'verbosity': [0, 0, 1]}\n",
    "\n",
    "X = deepcopy(real_data_df.drop(columns = ['device_blinds']))\n",
    "y = deepcopy(real_data_df['device_blinds'])\n"
   ]
  },
  {
   "cell_type": "code",
   "execution_count": 20,
   "metadata": {},
   "outputs": [],
   "source": [
    "# params = {'n_estimators ': [1, 50, 1], \n",
    "#                 'learning_rate': [5, 15, 5], \n",
    "#                 'max_depth': [0.01, 0.1, 0.01]}\n",
    "# params_unpacked = {key: list(np.arange(params[key][0], params[key][1] + params[key][2], params[key][2])) for key in params.keys()}\n",
    "# params_unpacked\n"
   ]
  },
  {
   "cell_type": "code",
   "execution_count": 21,
   "metadata": {
    "tags": []
   },
   "outputs": [],
   "source": [
    "# automl = AutoTuningHyperparameters(XGBClassifier, X, y, XGB_PARAMS, f1_score)"
   ]
  },
  {
   "cell_type": "code",
   "execution_count": 22,
   "metadata": {},
   "outputs": [],
   "source": [
    "# automl pipeline"
   ]
  },
  {
   "cell_type": "code",
   "execution_count": 23,
   "metadata": {
    "tags": []
   },
   "outputs": [],
   "source": [
    "# best_params, score = automl.auto_tune_pipeline()\n"
   ]
  },
  {
   "cell_type": "code",
   "execution_count": 24,
   "metadata": {},
   "outputs": [],
   "source": [
    "# best_params\n"
   ]
  },
  {
   "cell_type": "code",
   "execution_count": 25,
   "metadata": {},
   "outputs": [],
   "source": [
    "# Next thing that is needed for this project is data preprocessing module. During the analysis I had to analyse data only from one  device. Unfortunately, this is not the case in real life iot system. We can have lots of devices, sending data in not parallel time (ex. varying in one second). Preprocessing module should be able to properly create array of data, with properly standarized features, and joined tables from dfferent devices. Also, as the data is in form of time series, it should be properly batched and padded."
   ]
  },
  {
   "cell_type": "code",
   "execution_count": 26,
   "metadata": {},
   "outputs": [],
   "source": [
    "class PreprocessData(object):\n",
    "\n",
    "    @staticmethod\n",
    "    def standarize(X, standarization_rule = 'sensor'):\n",
    "        data = deepcopy(X.replace(['nan'], 0))\n",
    "        for column_name in data.columns:\n",
    "            if standarization_rule in column_name and data[column_name].std() != 0:\n",
    "                data[column_name] = (data[column_name] - data[column_name].mean())/data[column_name].std()\n",
    "        return data\n",
    "\n",
    "    def __init__(self, data, standarization_rule = 'sensor', tolerance=pd.Timedelta('5s'), nan_value = -1, numerical_date = True):\n",
    "        data_dfs = [pd.DataFrame(data[key]) for key in list(data.keys())]\n",
    "        for data_df_index in range(len(data_dfs)):\n",
    "            data_dfs[data_df_index]['date'] = pd.to_datetime(data_dfs[data_df_index]['date'])\n",
    "            data_dfs[data_df_index] = data_dfs[data_df_index].sort_values(by='date')\n",
    "\n",
    "        for data_df_index in range(len(data_dfs[:-1])):\n",
    "            data_dfs[data_df_index + 1] = pd.merge_asof(data_dfs[data_df_index], data_dfs[data_df_index + 1], on = \"date\",                              tolerance=tolerance, direction='backward', suffixes = ['_' + key for key in list                                                       (data.keys())[data_df_index:data_df_index+2]]).fillna(nan_value)\n",
    "\n",
    "        self.data_df = data_dfs[-1]\n",
    "        if numerical_date == True:\n",
    "            self.data_df['month']  = self.data_df['date'].dt.month\n",
    "            self.data_df['day']  = self.data_df['date'].dt.day\n",
    "            self.data_df['hour']  = self.data_df['date'].dt.hour\n",
    "            self.data_df['minute']  = self.data_df['date'].dt.minute\n",
    "            self.data_df['second']  = self.data_df['date'].dt.second\n",
    "        \n",
    "        self.data_df = self.standarize(self.data_df, standarization_rule=standarization_rule)\n",
    "\n",
    "    def time_series(self, time_series_size = 3, forecast = 3, y_rule = 'device'):\n",
    "        data_dfs  = [deepcopy(self.data_df.iloc[i:-time_series_size + i].drop('date', axis = 1).reset_index(drop = True)) for i in reversed(range(time_series_size))]\n",
    "        for df_index in range(len(data_dfs)):\n",
    "            data_dfs[df_index].columns = [column + '_' + str(df_index) for column in data_dfs[df_index].columns]\n",
    "        X = pd.concat(data_dfs, axis = 1).iloc[:-forecast]\n",
    "        Y = self.data_df[[column for column in self.data_df.columns if y_rule in column]].iloc[time_series_size:-forecast]\n",
    "        return X, Y\n"
   ]
  },
  {
   "cell_type": "code",
   "execution_count": 27,
   "metadata": {},
   "outputs": [],
   "source": [
    "data_preprocessor = PreprocessData({key: data[key] for key in list(data.keys())[1:]})"
   ]
  },
  {
   "cell_type": "code",
   "execution_count": 28,
   "metadata": {},
   "outputs": [],
   "source": [
    "X, Y = data_preprocessor.time_series()"
   ]
  },
  {
   "cell_type": "code",
   "execution_count": 29,
   "metadata": {},
   "outputs": [
    {
     "output_type": "execute_result",
     "data": {
      "text/plain": [
       "      sensor_light_room_Jan_synchronized_0  sensor_temperature_0  \\\n",
       "0                                 0.268934              0.041599   \n",
       "1                                 0.268934              0.041599   \n",
       "2                                 0.268934              0.041599   \n",
       "3                                 0.319296              0.041599   \n",
       "4                                 0.268934              0.041599   \n",
       "...                                    ...                   ...   \n",
       "9989                              0.319296             -0.459891   \n",
       "9990                              0.319296             -0.459891   \n",
       "9991                              0.319296             -0.585263   \n",
       "9992                              0.319296             -0.459891   \n",
       "9993                              0.319296             -0.459891   \n",
       "\n",
       "      sensor_desktop_0  device_blinds_0  device_lamp_0  \\\n",
       "0             0.717385                0              1   \n",
       "1             0.717385                0              1   \n",
       "2             0.717385                0              1   \n",
       "3             0.717385                0              1   \n",
       "4             0.717385                0              1   \n",
       "...                ...              ...            ...   \n",
       "9989          0.717385                0              1   \n",
       "9990          0.717385                0              1   \n",
       "9991          0.717385                0              1   \n",
       "9992          0.717385                0              1   \n",
       "9993          0.717385                0              1   \n",
       "\n",
       "      sensor_light_external_sensors_0  month_0  day_0  hour_0  minute_0  ...  \\\n",
       "0                           -0.326229       10     13       0         0  ...   \n",
       "1                           -0.326229       10     13       0         1  ...   \n",
       "2                           -0.326229       10     13       0         1  ...   \n",
       "3                           -0.326229       10     13       0         1  ...   \n",
       "4                           -0.326229       10     13       0         2  ...   \n",
       "...                               ...      ...    ...     ...       ...  ...   \n",
       "9989                        -0.326229       10     15      23        57  ...   \n",
       "9990                        -0.326229       10     15      23        57  ...   \n",
       "9991                        -0.326229       10     15      23        57  ...   \n",
       "9992                        -0.326229       10     15      23        58  ...   \n",
       "9993                        -0.326229       10     15      23        58  ...   \n",
       "\n",
       "      sensor_temperature_2  sensor_desktop_2  device_blinds_2  device_lamp_2  \\\n",
       "0                 0.041599          0.717385                0              1   \n",
       "1                 0.041599          0.717385                0              1   \n",
       "2                 0.041599          0.717385                0              1   \n",
       "3                 0.041599          0.717385                0              1   \n",
       "4                 0.041599          0.717385                0              1   \n",
       "...                    ...               ...              ...            ...   \n",
       "9989             -0.585263          0.717385                0              1   \n",
       "9990             -0.585263          0.717385                0              1   \n",
       "9991             -0.459891          0.717385                0              1   \n",
       "9992             -0.459891          0.717385                0              1   \n",
       "9993             -0.585263          0.717385                0              1   \n",
       "\n",
       "      sensor_light_external_sensors_2  month_2  day_2  hour_2  minute_2  \\\n",
       "0                           -0.326229       10     13       0         0   \n",
       "1                           -0.326229       10     13       0         0   \n",
       "2                           -0.326229       10     13       0         0   \n",
       "3                           -0.326229       10     13       0         1   \n",
       "4                           -0.326229       10     13       0         1   \n",
       "...                               ...      ...    ...     ...       ...   \n",
       "9989                        -0.326229       10     15      23        56   \n",
       "9990                        -0.326229       10     15      23        56   \n",
       "9991                        -0.326229       10     15      23        57   \n",
       "9992                        -0.326229       10     15      23        57   \n",
       "9993                        -0.326229       10     15      23        57   \n",
       "\n",
       "      second_2  \n",
       "0            0  \n",
       "1           20  \n",
       "2           40  \n",
       "3            0  \n",
       "4           20  \n",
       "...        ...  \n",
       "9989        21  \n",
       "9990        41  \n",
       "9991         1  \n",
       "9992        20  \n",
       "9993        40  \n",
       "\n",
       "[9994 rows x 33 columns]"
      ],
      "text/html": "<div>\n<style scoped>\n    .dataframe tbody tr th:only-of-type {\n        vertical-align: middle;\n    }\n\n    .dataframe tbody tr th {\n        vertical-align: top;\n    }\n\n    .dataframe thead th {\n        text-align: right;\n    }\n</style>\n<table border=\"1\" class=\"dataframe\">\n  <thead>\n    <tr style=\"text-align: right;\">\n      <th></th>\n      <th>sensor_light_room_Jan_synchronized_0</th>\n      <th>sensor_temperature_0</th>\n      <th>sensor_desktop_0</th>\n      <th>device_blinds_0</th>\n      <th>device_lamp_0</th>\n      <th>sensor_light_external_sensors_0</th>\n      <th>month_0</th>\n      <th>day_0</th>\n      <th>hour_0</th>\n      <th>minute_0</th>\n      <th>...</th>\n      <th>sensor_temperature_2</th>\n      <th>sensor_desktop_2</th>\n      <th>device_blinds_2</th>\n      <th>device_lamp_2</th>\n      <th>sensor_light_external_sensors_2</th>\n      <th>month_2</th>\n      <th>day_2</th>\n      <th>hour_2</th>\n      <th>minute_2</th>\n      <th>second_2</th>\n    </tr>\n  </thead>\n  <tbody>\n    <tr>\n      <td>0</td>\n      <td>0.268934</td>\n      <td>0.041599</td>\n      <td>0.717385</td>\n      <td>0</td>\n      <td>1</td>\n      <td>-0.326229</td>\n      <td>10</td>\n      <td>13</td>\n      <td>0</td>\n      <td>0</td>\n      <td>...</td>\n      <td>0.041599</td>\n      <td>0.717385</td>\n      <td>0</td>\n      <td>1</td>\n      <td>-0.326229</td>\n      <td>10</td>\n      <td>13</td>\n      <td>0</td>\n      <td>0</td>\n      <td>0</td>\n    </tr>\n    <tr>\n      <td>1</td>\n      <td>0.268934</td>\n      <td>0.041599</td>\n      <td>0.717385</td>\n      <td>0</td>\n      <td>1</td>\n      <td>-0.326229</td>\n      <td>10</td>\n      <td>13</td>\n      <td>0</td>\n      <td>1</td>\n      <td>...</td>\n      <td>0.041599</td>\n      <td>0.717385</td>\n      <td>0</td>\n      <td>1</td>\n      <td>-0.326229</td>\n      <td>10</td>\n      <td>13</td>\n      <td>0</td>\n      <td>0</td>\n      <td>20</td>\n    </tr>\n    <tr>\n      <td>2</td>\n      <td>0.268934</td>\n      <td>0.041599</td>\n      <td>0.717385</td>\n      <td>0</td>\n      <td>1</td>\n      <td>-0.326229</td>\n      <td>10</td>\n      <td>13</td>\n      <td>0</td>\n      <td>1</td>\n      <td>...</td>\n      <td>0.041599</td>\n      <td>0.717385</td>\n      <td>0</td>\n      <td>1</td>\n      <td>-0.326229</td>\n      <td>10</td>\n      <td>13</td>\n      <td>0</td>\n      <td>0</td>\n      <td>40</td>\n    </tr>\n    <tr>\n      <td>3</td>\n      <td>0.319296</td>\n      <td>0.041599</td>\n      <td>0.717385</td>\n      <td>0</td>\n      <td>1</td>\n      <td>-0.326229</td>\n      <td>10</td>\n      <td>13</td>\n      <td>0</td>\n      <td>1</td>\n      <td>...</td>\n      <td>0.041599</td>\n      <td>0.717385</td>\n      <td>0</td>\n      <td>1</td>\n      <td>-0.326229</td>\n      <td>10</td>\n      <td>13</td>\n      <td>0</td>\n      <td>1</td>\n      <td>0</td>\n    </tr>\n    <tr>\n      <td>4</td>\n      <td>0.268934</td>\n      <td>0.041599</td>\n      <td>0.717385</td>\n      <td>0</td>\n      <td>1</td>\n      <td>-0.326229</td>\n      <td>10</td>\n      <td>13</td>\n      <td>0</td>\n      <td>2</td>\n      <td>...</td>\n      <td>0.041599</td>\n      <td>0.717385</td>\n      <td>0</td>\n      <td>1</td>\n      <td>-0.326229</td>\n      <td>10</td>\n      <td>13</td>\n      <td>0</td>\n      <td>1</td>\n      <td>20</td>\n    </tr>\n    <tr>\n      <td>...</td>\n      <td>...</td>\n      <td>...</td>\n      <td>...</td>\n      <td>...</td>\n      <td>...</td>\n      <td>...</td>\n      <td>...</td>\n      <td>...</td>\n      <td>...</td>\n      <td>...</td>\n      <td>...</td>\n      <td>...</td>\n      <td>...</td>\n      <td>...</td>\n      <td>...</td>\n      <td>...</td>\n      <td>...</td>\n      <td>...</td>\n      <td>...</td>\n      <td>...</td>\n      <td>...</td>\n    </tr>\n    <tr>\n      <td>9989</td>\n      <td>0.319296</td>\n      <td>-0.459891</td>\n      <td>0.717385</td>\n      <td>0</td>\n      <td>1</td>\n      <td>-0.326229</td>\n      <td>10</td>\n      <td>15</td>\n      <td>23</td>\n      <td>57</td>\n      <td>...</td>\n      <td>-0.585263</td>\n      <td>0.717385</td>\n      <td>0</td>\n      <td>1</td>\n      <td>-0.326229</td>\n      <td>10</td>\n      <td>15</td>\n      <td>23</td>\n      <td>56</td>\n      <td>21</td>\n    </tr>\n    <tr>\n      <td>9990</td>\n      <td>0.319296</td>\n      <td>-0.459891</td>\n      <td>0.717385</td>\n      <td>0</td>\n      <td>1</td>\n      <td>-0.326229</td>\n      <td>10</td>\n      <td>15</td>\n      <td>23</td>\n      <td>57</td>\n      <td>...</td>\n      <td>-0.585263</td>\n      <td>0.717385</td>\n      <td>0</td>\n      <td>1</td>\n      <td>-0.326229</td>\n      <td>10</td>\n      <td>15</td>\n      <td>23</td>\n      <td>56</td>\n      <td>41</td>\n    </tr>\n    <tr>\n      <td>9991</td>\n      <td>0.319296</td>\n      <td>-0.585263</td>\n      <td>0.717385</td>\n      <td>0</td>\n      <td>1</td>\n      <td>-0.326229</td>\n      <td>10</td>\n      <td>15</td>\n      <td>23</td>\n      <td>57</td>\n      <td>...</td>\n      <td>-0.459891</td>\n      <td>0.717385</td>\n      <td>0</td>\n      <td>1</td>\n      <td>-0.326229</td>\n      <td>10</td>\n      <td>15</td>\n      <td>23</td>\n      <td>57</td>\n      <td>1</td>\n    </tr>\n    <tr>\n      <td>9992</td>\n      <td>0.319296</td>\n      <td>-0.459891</td>\n      <td>0.717385</td>\n      <td>0</td>\n      <td>1</td>\n      <td>-0.326229</td>\n      <td>10</td>\n      <td>15</td>\n      <td>23</td>\n      <td>58</td>\n      <td>...</td>\n      <td>-0.459891</td>\n      <td>0.717385</td>\n      <td>0</td>\n      <td>1</td>\n      <td>-0.326229</td>\n      <td>10</td>\n      <td>15</td>\n      <td>23</td>\n      <td>57</td>\n      <td>20</td>\n    </tr>\n    <tr>\n      <td>9993</td>\n      <td>0.319296</td>\n      <td>-0.459891</td>\n      <td>0.717385</td>\n      <td>0</td>\n      <td>1</td>\n      <td>-0.326229</td>\n      <td>10</td>\n      <td>15</td>\n      <td>23</td>\n      <td>58</td>\n      <td>...</td>\n      <td>-0.585263</td>\n      <td>0.717385</td>\n      <td>0</td>\n      <td>1</td>\n      <td>-0.326229</td>\n      <td>10</td>\n      <td>15</td>\n      <td>23</td>\n      <td>57</td>\n      <td>40</td>\n    </tr>\n  </tbody>\n</table>\n<p>9994 rows × 33 columns</p>\n</div>"
     },
     "metadata": {},
     "execution_count": 29
    }
   ],
   "source": [
    "X"
   ]
  },
  {
   "cell_type": "code",
   "execution_count": 30,
   "metadata": {},
   "outputs": [
    {
     "output_type": "execute_result",
     "data": {
      "text/plain": [
       "      device_blinds  device_lamp\n",
       "3                 0            1\n",
       "4                 0            1\n",
       "5                 0            1\n",
       "6                 0            1\n",
       "7                 0            1\n",
       "...             ...          ...\n",
       "9992              0            1\n",
       "9993              0            1\n",
       "9994              0            1\n",
       "9995              0            1\n",
       "9996              0            1\n",
       "\n",
       "[9994 rows x 2 columns]"
      ],
      "text/html": "<div>\n<style scoped>\n    .dataframe tbody tr th:only-of-type {\n        vertical-align: middle;\n    }\n\n    .dataframe tbody tr th {\n        vertical-align: top;\n    }\n\n    .dataframe thead th {\n        text-align: right;\n    }\n</style>\n<table border=\"1\" class=\"dataframe\">\n  <thead>\n    <tr style=\"text-align: right;\">\n      <th></th>\n      <th>device_blinds</th>\n      <th>device_lamp</th>\n    </tr>\n  </thead>\n  <tbody>\n    <tr>\n      <td>3</td>\n      <td>0</td>\n      <td>1</td>\n    </tr>\n    <tr>\n      <td>4</td>\n      <td>0</td>\n      <td>1</td>\n    </tr>\n    <tr>\n      <td>5</td>\n      <td>0</td>\n      <td>1</td>\n    </tr>\n    <tr>\n      <td>6</td>\n      <td>0</td>\n      <td>1</td>\n    </tr>\n    <tr>\n      <td>7</td>\n      <td>0</td>\n      <td>1</td>\n    </tr>\n    <tr>\n      <td>...</td>\n      <td>...</td>\n      <td>...</td>\n    </tr>\n    <tr>\n      <td>9992</td>\n      <td>0</td>\n      <td>1</td>\n    </tr>\n    <tr>\n      <td>9993</td>\n      <td>0</td>\n      <td>1</td>\n    </tr>\n    <tr>\n      <td>9994</td>\n      <td>0</td>\n      <td>1</td>\n    </tr>\n    <tr>\n      <td>9995</td>\n      <td>0</td>\n      <td>1</td>\n    </tr>\n    <tr>\n      <td>9996</td>\n      <td>0</td>\n      <td>1</td>\n    </tr>\n  </tbody>\n</table>\n<p>9994 rows × 2 columns</p>\n</div>"
     },
     "metadata": {},
     "execution_count": 30
    }
   ],
   "source": [
    "Y"
   ]
  },
  {
   "cell_type": "code",
   "execution_count": 31,
   "metadata": {},
   "outputs": [],
   "source": [
    "# automl = AutoTuningHyperparameters(XGBClassifier, X, Y['device_blinds'], XGB_PARAMS, f1_score)\n",
    "# automl.auto_tune_pipeline()"
   ]
  },
  {
   "cell_type": "code",
   "execution_count": 32,
   "metadata": {},
   "outputs": [],
   "source": [
    "# Code above was made into small library. Example usage: "
   ]
  },
  {
   "cell_type": "code",
   "execution_count": 33,
   "metadata": {},
   "outputs": [
    {
     "output_type": "stream",
     "name": "stdout",
     "text": [
      "new search ranges for parameters: {'n_estimators ': [80, 160, 20], 'learning_rate': [0.011999999999999997, 0.048, 0.01], 'max_depth': [3, 63, 30], 'subsample': [0.9100000000000001, 0.9900000000000002, 0.05], 'colsample_bytree': [0.4999999999999999, 0.6999999999999998, 0.05], 'gamma': [0, 2, 1], 'verbosity': [0, 0, 1]}\n",
      "performed random serach with max score of 0.9989687177724303 and best parameters {'n_estimators ': 120, 'learning_rate': 0.03, 'max_depth': 3, 'subsample': 0.9500000000000002, 'colsample_bytree': 0.5999999999999999, 'gamma': 1, 'verbosity': 0}\n",
      "value 1.01 for Parameter subsample exceed bound [0,1]\n",
      "subsample: Row subsample ratio of training instance.\n",
      "value 1.01 for Parameter subsample exceed bound [0,1]\n",
      "subsample: Row subsample ratio of training instance.\n",
      "value 1.01 for Parameter subsample exceed bound [0,1]\n",
      "subsample: Row subsample ratio of training instance.\n",
      "value 1.01 for Parameter subsample exceed bound [0,1]\n",
      "subsample: Row subsample ratio of training instance.\n",
      "value 1.01 for Parameter subsample exceed bound [0,1]\n",
      "subsample: Row subsample ratio of training instance.\n",
      "value 1.01 for Parameter subsample exceed bound [0,1]\n",
      "subsample: Row subsample ratio of training instance.\n",
      "value 1.01 for Parameter subsample exceed bound [0,1]\n",
      "subsample: Row subsample ratio of training instance.\n",
      "value 1.01 for Parameter subsample exceed bound [0,1]\n",
      "subsample: Row subsample ratio of training instance.\n",
      "value 1.01 for Parameter subsample exceed bound [0,1]\n",
      "subsample: Row subsample ratio of training instance.\n",
      "value 1.01 for Parameter subsample exceed bound [0,1]\n",
      "subsample: Row subsample ratio of training instance.\n",
      "value 1.01 for Parameter subsample exceed bound [0,1]\n",
      "subsample: Row subsample ratio of training instance.\n",
      "value 1.01 for Parameter subsample exceed bound [0,1]\n",
      "subsample: Row subsample ratio of training instance.\n",
      "value 1.01 for Parameter subsample exceed bound [0,1]\n",
      "subsample: Row subsample ratio of training instance.\n",
      "value 1.01 for Parameter subsample exceed bound [0,1]\n",
      "subsample: Row subsample ratio of training instance.\n",
      "value 1.01 for Parameter subsample exceed bound [0,1]\n",
      "subsample: Row subsample ratio of training instance.\n",
      "value 1.01 for Parameter subsample exceed bound [0,1]\n",
      "subsample: Row subsample ratio of training instance.\n",
      "value 1.01 for Parameter subsample exceed bound [0,1]\n",
      "subsample: Row subsample ratio of training instance.\n",
      "value 1.01 for Parameter subsample exceed bound [0,1]\n",
      "subsample: Row subsample ratio of training instance.\n",
      "value 1.01 for Parameter subsample exceed bound [0,1]\n",
      "subsample: Row subsample ratio of training instance.\n",
      "value 1.01 for Parameter subsample exceed bound [0,1]\n",
      "subsample: Row subsample ratio of training instance.\n",
      "value 1.01 for Parameter subsample exceed bound [0,1]\n",
      "subsample: Row subsample ratio of training instance.\n",
      "value 1.01 for Parameter subsample exceed bound [0,1]\n",
      "subsample: Row subsample ratio of training instance.\n",
      "value 1.01 for Parameter subsample exceed bound [0,1]\n",
      "subsample: Row subsample ratio of training instance.\n",
      "value 1.01 for Parameter subsample exceed bound [0,1]\n",
      "subsample: Row subsample ratio of training instance.\n",
      "value 1.01 for Parameter subsample exceed bound [0,1]\n",
      "subsample: Row subsample ratio of training instance.\n",
      "value 1.01 for Parameter subsample exceed bound [0,1]\n",
      "subsample: Row subsample ratio of training instance.\n",
      "value 1.01 for Parameter subsample exceed bound [0,1]\n",
      "subsample: Row subsample ratio of training instance.\n",
      "value 1.01 for Parameter subsample exceed bound [0,1]\n",
      "subsample: Row subsample ratio of training instance.\n",
      "value 1.01 for Parameter subsample exceed bound [0,1]\n",
      "subsample: Row subsample ratio of training instance.\n",
      "value 1.01 for Parameter subsample exceed bound [0,1]\n",
      "subsample: Row subsample ratio of training instance.\n",
      "value 1.01 for Parameter subsample exceed bound [0,1]\n",
      "subsample: Row subsample ratio of training instance.\n",
      "value 1.01 for Parameter subsample exceed bound [0,1]\n",
      "subsample: Row subsample ratio of training instance.\n",
      "value 1.01 for Parameter subsample exceed bound [0,1]\n",
      "subsample: Row subsample ratio of training instance.\n",
      "value 1.01 for Parameter subsample exceed bound [0,1]\n",
      "subsample: Row subsample ratio of training instance.\n",
      "value 1.01 for Parameter subsample exceed bound [0,1]\n",
      "subsample: Row subsample ratio of training instance.\n",
      "new search ranges for parameters: {'n_estimators ': [80, 140, 20], 'learning_rate': [0.011999999999999997, 0.04, 0.01], 'max_depth': [3, 63, 30], 'subsample': [0.9100000000000001, 0.9500000000000002, 0.05], 'colsample_bytree': [0.4999999999999999, 0.6499999999999999, 0.05], 'gamma': [1, 2, 1], 'verbosity': [0, 0, 1]}\n",
      "performed grid serach with max score of 0.9989687177724303 and best parameters {'n_estimators ': 100, 'learning_rate': 0.022, 'max_depth': 63, 'subsample': 0.9100000000000001, 'colsample_bytree': 0.5499999999999999, 'gamma': 2, 'verbosity': 0}\n"
     ]
    },
    {
     "output_type": "execute_result",
     "data": {
      "text/plain": [
       "({'n_estimators ': 100,\n",
       "  'learning_rate': 0.022,\n",
       "  'max_depth': 63,\n",
       "  'subsample': 0.9100000000000001,\n",
       "  'colsample_bytree': 0.5499999999999999,\n",
       "  'gamma': 2,\n",
       "  'verbosity': 0},\n",
       " 0.9989687177724303)"
      ]
     },
     "metadata": {},
     "execution_count": 33
    }
   ],
   "source": [
    "import AutoML\n",
    "automl = AutoML.AutoTuningHyperparameters(XGBClassifier, {key: data[key] for key in list(data.keys())[1:]}, XGB_PARAMS, f1_score)\n",
    "automl.auto_tune_pipeline()"
   ]
  },
  {
   "cell_type": "code",
   "execution_count": 34,
   "metadata": {},
   "outputs": [
    {
     "output_type": "execute_result",
     "data": {
      "text/plain": [
       "      date  sensor_light_room_Jan_synchronized  sensor_temperature  \\\n",
       "std    1.0                            0.198562            0.797624   \n",
       "mean   0.0                            0.186600           21.566820   \n",
       "\n",
       "      sensor_desktop  device_blinds  device_lamp  \\\n",
       "std         0.473665            1.0          1.0   \n",
       "mean        0.660200            0.0          0.0   \n",
       "\n",
       "      sensor_light_external_sensors  month  day  hour  minute  second  \n",
       "std                        0.411943    1.0  1.0   1.0     1.0     1.0  \n",
       "mean                       0.134388    0.0  0.0   0.0     0.0     0.0  "
      ],
      "text/html": "<div>\n<style scoped>\n    .dataframe tbody tr th:only-of-type {\n        vertical-align: middle;\n    }\n\n    .dataframe tbody tr th {\n        vertical-align: top;\n    }\n\n    .dataframe thead th {\n        text-align: right;\n    }\n</style>\n<table border=\"1\" class=\"dataframe\">\n  <thead>\n    <tr style=\"text-align: right;\">\n      <th></th>\n      <th>date</th>\n      <th>sensor_light_room_Jan_synchronized</th>\n      <th>sensor_temperature</th>\n      <th>sensor_desktop</th>\n      <th>device_blinds</th>\n      <th>device_lamp</th>\n      <th>sensor_light_external_sensors</th>\n      <th>month</th>\n      <th>day</th>\n      <th>hour</th>\n      <th>minute</th>\n      <th>second</th>\n    </tr>\n  </thead>\n  <tbody>\n    <tr>\n      <td>std</td>\n      <td>1.0</td>\n      <td>0.198562</td>\n      <td>0.797624</td>\n      <td>0.473665</td>\n      <td>1.0</td>\n      <td>1.0</td>\n      <td>0.411943</td>\n      <td>1.0</td>\n      <td>1.0</td>\n      <td>1.0</td>\n      <td>1.0</td>\n      <td>1.0</td>\n    </tr>\n    <tr>\n      <td>mean</td>\n      <td>0.0</td>\n      <td>0.186600</td>\n      <td>21.566820</td>\n      <td>0.660200</td>\n      <td>0.0</td>\n      <td>0.0</td>\n      <td>0.134388</td>\n      <td>0.0</td>\n      <td>0.0</td>\n      <td>0.0</td>\n      <td>0.0</td>\n      <td>0.0</td>\n    </tr>\n  </tbody>\n</table>\n</div>"
     },
     "metadata": {},
     "execution_count": 34
    }
   ],
   "source": [
    "automl.data_preprocessor.standarization_matrix"
   ]
  },
  {
   "cell_type": "code",
   "execution_count": null,
   "metadata": {},
   "outputs": [],
   "source": []
  }
 ]
}