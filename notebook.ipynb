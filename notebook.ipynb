{
 "metadata": {
  "language_info": {
   "codemirror_mode": {
    "name": "ipython",
    "version": 3
   },
   "file_extension": ".py",
   "mimetype": "text/x-python",
   "name": "python",
   "nbconvert_exporter": "python",
   "pygments_lexer": "ipython3",
   "version": "3.7.4-final"
  },
  "orig_nbformat": 2,
  "kernelspec": {
   "name": "Python 3.7.4 64-bit ('base': conda)",
   "display_name": "Python 3.7.4 64-bit ('base': conda)",
   "metadata": {
    "interpreter": {
     "hash": "5bb0378d4ee4c0aff941e0dc4c26640714a7475a262217eccf73e6de1579f1e3"
    }
   }
  }
 },
 "nbformat": 4,
 "nbformat_minor": 2,
 "cells": [
  {
   "cell_type": "code",
   "execution_count": 2,
   "metadata": {},
   "outputs": [],
   "source": [
    "import requests\n",
    "import pandas as pd \n",
    "import numpy as np\n",
    "from copy import deepcopy"
   ]
  },
  {
   "cell_type": "code",
   "execution_count": 3,
   "metadata": {},
   "outputs": [
    {
     "output_type": "execute_result",
     "data": {
      "text/plain": "dict_keys([&#39;room_Jan&#39;, &#39;room_Jan_synchronized&#39;, &#39;external_sensors&#39;])"
     },
     "metadata": {},
     "execution_count": 3
    }
   ],
   "source": [
    "data = requests.get('https://b718b51c1217.ngrok.io/data/10000/6ytwk4ivTB7QkmlL0QPA1HNQ7NCOAb6Y').json()\n",
    "data.keys()"
   ]
  },
  {
   "cell_type": "code",
   "execution_count": 4,
   "metadata": {},
   "outputs": [],
   "source": [
    "real_data_df = pd.DataFrame(data['room_Jan'])"
   ]
  },
  {
   "cell_type": "code",
   "execution_count": 5,
   "metadata": {},
   "outputs": [],
   "source": [
    "# During the analysis I didn't know which column represents sensors, and which represents devices. \n",
    "# That is why I have performed some data analysis to determine it. Also all sensors values have been \n",
    "# standarized, so that machine learning algorithms can converge easly to global minimum of \n",
    "# cost function. "
   ]
  },
  {
   "cell_type": "code",
   "execution_count": 6,
   "metadata": {},
   "outputs": [],
   "source": [
    "columns = deepcopy(real_data_df.columns)"
   ]
  },
  {
   "cell_type": "code",
   "execution_count": 7,
   "metadata": {
    "tags": []
   },
   "outputs": [
    {
     "output_type": "stream",
     "name": "stdout",
     "text": "count                        10000\nunique                       10000\ntop       Wed Sep 30 17:50:43 2020\nfreq                             1\nName: date, dtype: object\n"
    },
    {
     "output_type": "execute_result",
     "data": {
      "text/plain": "array([&#39;Tue Oct  6 10:07:28 2020&#39;, &#39;Tue Oct  6 10:07:48 2020&#39;,\n       &#39;Tue Oct  6 10:08:08 2020&#39;, ..., &#39;Wed Sep 30 23:59:06 2020&#39;,\n       &#39;Wed Sep 30 23:59:26 2020&#39;, &#39;Wed Sep 30 23:59:46 2020&#39;],\n      dtype=object)"
     },
     "metadata": {},
     "execution_count": 7
    }
   ],
   "source": [
    "print(real_data_df[columns[0]].describe())\n",
    "real_data_df[columns[0]].unique()\n",
    "# strings representing date, primary key of each table in the smarthouse project database"
   ]
  },
  {
   "cell_type": "code",
   "execution_count": 8,
   "metadata": {
    "tags": []
   },
   "outputs": [
    {
     "output_type": "stream",
     "name": "stdout",
     "text": "count    10000.000000\nmean         0.245638\nstd          0.222853\nmin          0.000000\n25%          0.000000\n50%          0.240000\n75%          0.460000\nmax          0.640000\nName: sensor_light, dtype: float64\n"
    },
    {
     "output_type": "execute_result",
     "data": {
      "text/plain": "array([0.4 , 0.39, 0.41, 0.42, 0.47, 0.46, 0.45, 0.44, 0.43, 0.48, 0.49,\n       0.5 , 0.51, 0.52, 0.53, 0.54, 0.55, 0.56, 0.57, 0.58, 0.59, 0.6 ,\n       0.38, 0.37, 0.35, 0.36, 0.34, 0.33, 0.32, 0.31, 0.3 , 0.29, 0.28,\n       0.27, 0.26, 0.25, 0.24, 0.23, 0.22, 0.21, 0.2 , 0.  , 0.14, 0.03,\n       0.12, 0.11, 0.16, 0.06, 0.1 , 0.17, 0.18, 0.15, 0.04, 0.09, 0.07,\n       0.08, 0.01, 0.19, 0.13, 0.05, 0.02, 0.61, 0.62, 0.63, 0.64])"
     },
     "metadata": {},
     "execution_count": 8
    }
   ],
   "source": [
    "print(real_data_df[columns[1]].describe())\n",
    "real_data_df[columns[1]].unique()\n",
    "# values between 0.0 and 0.65, it is probably light sensor"
   ]
  },
  {
   "cell_type": "code",
   "execution_count": 9,
   "metadata": {
    "tags": []
   },
   "outputs": [
    {
     "output_type": "stream",
     "name": "stdout",
     "text": "count     10000.0\nunique       48.0\ntop          20.8\nfreq       1124.0\nName: sensor_temperature, dtype: float64\n"
    },
    {
     "output_type": "execute_result",
     "data": {
      "text/plain": "array([21.8, 21.9, 22, 22.1, &#39;nan&#39;, 22.2, 22.3, 22.4, 19.4, 19.5, 19.6,\n       19.7, 19.8, 19.9, 20, 20.1, 20.2, 20.3, 20.4, 20.5, 20.6, 20.7,\n       20.8, 20.9, 21, 21.1, 21.2, 19.2, 19.1, 19, 18.8, 18.7, 18.6, 18.4,\n       18.3, 18.2, 18.1, 18, 17.9, 17.8, 18.5, 18.9, 19.3, 21.3, 21.4,\n       21.5, 21.6, 21.7], dtype=object)"
     },
     "metadata": {},
     "execution_count": 9
    }
   ],
   "source": [
    "print(real_data_df[columns[2]].describe())\n",
    "real_data_df[columns[2]].unique()\n",
    "# real values between 0 and 22.1, also some 'nan' included, probably it is temperature sensor"
   ]
  },
  {
   "cell_type": "code",
   "execution_count": 10,
   "metadata": {
    "tags": []
   },
   "outputs": [
    {
     "output_type": "stream",
     "name": "stdout",
     "text": "count    10000.000000\nmean         0.213100\nstd          0.409518\nmin          0.000000\n25%          0.000000\n50%          0.000000\n75%          0.000000\nmax          1.000000\nName: sensor_desktop, dtype: float64\n"
    },
    {
     "output_type": "execute_result",
     "data": {
      "text/plain": "array([0, 1], dtype=int64)"
     },
     "metadata": {},
     "execution_count": 10
    }
   ],
   "source": [
    "print(real_data_df[columns[3]].describe())\n",
    "real_data_df[columns[3]].unique()\n",
    "# only zeros and ones, it is controllable divice"
   ]
  },
  {
   "cell_type": "code",
   "execution_count": 11,
   "metadata": {
    "tags": []
   },
   "outputs": [
    {
     "output_type": "stream",
     "name": "stdout",
     "text": "count    10000.000000\nmean         0.578300\nstd          0.493856\nmin          0.000000\n25%          0.000000\n50%          1.000000\n75%          1.000000\nmax          1.000000\nName: device_blinds, dtype: float64\n"
    },
    {
     "output_type": "execute_result",
     "data": {
      "text/plain": "array([1, 0], dtype=int64)"
     },
     "metadata": {},
     "execution_count": 11
    }
   ],
   "source": [
    "print(real_data_df[columns[4]].describe())\n",
    "real_data_df[columns[4]].unique()\n",
    "# only zeros and ones, it is controllable divice"
   ]
  },
  {
   "cell_type": "code",
   "execution_count": 12,
   "metadata": {
    "tags": []
   },
   "outputs": [
    {
     "output_type": "stream",
     "name": "stdout",
     "text": "count    10000.000000\nmean         0.111800\nstd          0.315136\nmin          0.000000\n25%          0.000000\n50%          0.000000\n75%          0.000000\nmax          1.000000\nName: device_lamp, dtype: float64\n"
    },
    {
     "output_type": "execute_result",
     "data": {
      "text/plain": "array([0, 1], dtype=int64)"
     },
     "metadata": {},
     "execution_count": 12
    }
   ],
   "source": [
    "print(real_data_df[columns[5]].describe())\n",
    "real_data_df[columns[5]].unique()\n",
    "# only zeros and ones, it is controllable divice"
   ]
  },
  {
   "cell_type": "code",
   "execution_count": 13,
   "metadata": {},
   "outputs": [],
   "source": [
    "#real_data_df.columns = ['date', 'sensor_1', 'sensor_2', 'device_1', 'device_2', 'device_3']\n",
    "real_data_df.index = real_data_df['date']\n",
    "real_data_df = real_data_df.drop(columns = ['date'])"
   ]
  },
  {
   "cell_type": "code",
   "execution_count": 14,
   "metadata": {},
   "outputs": [
    {
     "output_type": "execute_result",
     "data": {
      "text/plain": "                          sensor_light sensor_temperature  sensor_desktop  \\\ndate                                                                        \nTue Oct  6 10:07:28 2020          0.40               21.8               0   \nTue Oct  6 10:07:48 2020          0.40               21.8               0   \nTue Oct  6 10:08:08 2020          0.40               21.8               0   \nTue Oct  6 10:08:28 2020          0.40               21.8               0   \nTue Oct  6 10:08:48 2020          0.40               21.8               0   \n...                                ...                ...             ...   \nWed Sep 30 23:58:26 2020          0.23               21.8               1   \nWed Sep 30 23:58:46 2020          0.23               21.9               1   \nWed Sep 30 23:59:06 2020          0.23               21.8               1   \nWed Sep 30 23:59:26 2020          0.23               21.8               1   \nWed Sep 30 23:59:46 2020          0.23               21.9               1   \n\n                          device_blinds  device_lamp  \ndate                                                  \nTue Oct  6 10:07:28 2020              1            0  \nTue Oct  6 10:07:48 2020              1            0  \nTue Oct  6 10:08:08 2020              1            0  \nTue Oct  6 10:08:28 2020              1            0  \nTue Oct  6 10:08:48 2020              1            0  \n...                                 ...          ...  \nWed Sep 30 23:58:26 2020              0            1  \nWed Sep 30 23:58:46 2020              0            1  \nWed Sep 30 23:59:06 2020              0            1  \nWed Sep 30 23:59:26 2020              0            1  \nWed Sep 30 23:59:46 2020              0            1  \n\n[10000 rows x 5 columns]",
      "text/html": "<div>\n<style scoped>\n    .dataframe tbody tr th:only-of-type {\n        vertical-align: middle;\n    }\n\n    .dataframe tbody tr th {\n        vertical-align: top;\n    }\n\n    .dataframe thead th {\n        text-align: right;\n    }\n</style>\n<table border=\"1\" class=\"dataframe\">\n  <thead>\n    <tr style=\"text-align: right;\">\n      <th></th>\n      <th>sensor_light</th>\n      <th>sensor_temperature</th>\n      <th>sensor_desktop</th>\n      <th>device_blinds</th>\n      <th>device_lamp</th>\n    </tr>\n    <tr>\n      <th>date</th>\n      <th></th>\n      <th></th>\n      <th></th>\n      <th></th>\n      <th></th>\n    </tr>\n  </thead>\n  <tbody>\n    <tr>\n      <td>Tue Oct  6 10:07:28 2020</td>\n      <td>0.40</td>\n      <td>21.8</td>\n      <td>0</td>\n      <td>1</td>\n      <td>0</td>\n    </tr>\n    <tr>\n      <td>Tue Oct  6 10:07:48 2020</td>\n      <td>0.40</td>\n      <td>21.8</td>\n      <td>0</td>\n      <td>1</td>\n      <td>0</td>\n    </tr>\n    <tr>\n      <td>Tue Oct  6 10:08:08 2020</td>\n      <td>0.40</td>\n      <td>21.8</td>\n      <td>0</td>\n      <td>1</td>\n      <td>0</td>\n    </tr>\n    <tr>\n      <td>Tue Oct  6 10:08:28 2020</td>\n      <td>0.40</td>\n      <td>21.8</td>\n      <td>0</td>\n      <td>1</td>\n      <td>0</td>\n    </tr>\n    <tr>\n      <td>Tue Oct  6 10:08:48 2020</td>\n      <td>0.40</td>\n      <td>21.8</td>\n      <td>0</td>\n      <td>1</td>\n      <td>0</td>\n    </tr>\n    <tr>\n      <td>...</td>\n      <td>...</td>\n      <td>...</td>\n      <td>...</td>\n      <td>...</td>\n      <td>...</td>\n    </tr>\n    <tr>\n      <td>Wed Sep 30 23:58:26 2020</td>\n      <td>0.23</td>\n      <td>21.8</td>\n      <td>1</td>\n      <td>0</td>\n      <td>1</td>\n    </tr>\n    <tr>\n      <td>Wed Sep 30 23:58:46 2020</td>\n      <td>0.23</td>\n      <td>21.9</td>\n      <td>1</td>\n      <td>0</td>\n      <td>1</td>\n    </tr>\n    <tr>\n      <td>Wed Sep 30 23:59:06 2020</td>\n      <td>0.23</td>\n      <td>21.8</td>\n      <td>1</td>\n      <td>0</td>\n      <td>1</td>\n    </tr>\n    <tr>\n      <td>Wed Sep 30 23:59:26 2020</td>\n      <td>0.23</td>\n      <td>21.8</td>\n      <td>1</td>\n      <td>0</td>\n      <td>1</td>\n    </tr>\n    <tr>\n      <td>Wed Sep 30 23:59:46 2020</td>\n      <td>0.23</td>\n      <td>21.9</td>\n      <td>1</td>\n      <td>0</td>\n      <td>1</td>\n    </tr>\n  </tbody>\n</table>\n<p>10000 rows × 5 columns</p>\n</div>"
     },
     "metadata": {},
     "execution_count": 14
    }
   ],
   "source": [
    "real_data_df"
   ]
  },
  {
   "cell_type": "code",
   "execution_count": 15,
   "metadata": {},
   "outputs": [],
   "source": [
    "# Next step is to determine best rule indiction algorithm. Our goal is to find a rule \n",
    "# of behaviours between devices and sensors, so that our algorithm can predict properly when it should\n",
    "# activate each device. 2 algorithms I am going to compare are Decision Trees, Random Forest and Extreeme Gradient Boosted Trees."
   ]
  },
  {
   "cell_type": "code",
   "execution_count": 16,
   "metadata": {},
   "outputs": [],
   "source": [
    "from sklearn.tree import DecisionTreeClassifier\n",
    "from sklearn.ensemble import RandomForestClassifier\n",
    "from xgboost import XGBClassifier\n",
    "from sklearn import metrics\n",
    "\n",
    "from copy import deepcopy\n",
    "import itertools"
   ]
  },
  {
   "cell_type": "code",
   "execution_count": 17,
   "metadata": {},
   "outputs": [],
   "source": [
    "from sklearn.metrics import fbeta_score\n",
    "\n",
    "def f1_score(y_true, y_pred, threshold = 0.5):\n",
    "    y_pred_class = y_pred >= threshold\n",
    "    y_true = y_true == 1\n",
    "    return fbeta_score(y_true, y_pred_class, beta = 1)"
   ]
  },
  {
   "cell_type": "code",
   "execution_count": 18,
   "metadata": {},
   "outputs": [],
   "source": [
    "class AutoTuningHyperparameters(object):\n",
    "    @staticmethod\n",
    "    def standarize(X, standarization_rule = None):\n",
    "        data = deepcopy(X.replace(['nan'], 0))\n",
    "        for column_name in data.columns:\n",
    "            if 'sensor' in column_name:\n",
    "                data[column_name] = (data[column_name] - data[column_name].mean())/data[column_name].std()\n",
    "        return data\n",
    "\n",
    "    @staticmethod\n",
    "    def generate_all_possible_params(params):\n",
    "        params_unpacked = {key: list(np.arange(params[key][0], params[key][1] + params[key][2], params[key][2])) for key in                     params.keys()}\n",
    "        keys, values = zip(*params_unpacked.items())\n",
    "        possible_params = [dict(zip(keys, v)) for v in itertools.product(*values)]\n",
    "        return possible_params\n",
    "\n",
    "    def __init__(self, model, X, y, params, cost):\n",
    "        self.model = model \n",
    "        X = self.standarize(X) \n",
    "        self.X_train = X[:int(0.7*len(X))]\n",
    "        self.X_test = X[int(0.7*len(X)):]\n",
    "        self.y_train = y[:int(0.7*len(y))]\n",
    "        self.y_test = y[int(0.7*len(y)):]\n",
    "        self.params = params\n",
    "        self.cost = cost\n",
    "        self.best_model = None\n",
    "    \n",
    "    def fit_model(self, params):\n",
    "        model = self.model(**params)\n",
    "        try:\n",
    "            model.fit(self.X_train, self.y_train)\n",
    "            predictions = model.predict(self.X_test)\n",
    "            return model, self.cost(self.y_test, predictions)\n",
    "        except:\n",
    "            return None, 0\n",
    "    \n",
    "    def grid_search(self, params = None, verbose = 1):\n",
    "        if params:\n",
    "            params = self.generate_all_possible_params(params)\n",
    "        else:\n",
    "            params = self.generate_all_possible_params(self.params)\n",
    "        models = []\n",
    "        for index, parameters in enumerate(params):\n",
    "            model, ratio = self.fit_model(parameters)\n",
    "            models.append([parameters, ratio])\n",
    "\n",
    "            if verbose >= 1:\n",
    "                print('{:.4f}'.format((index+1)/len(params)), end = '\\r')\n",
    "\n",
    "        sorted_models = [[x[0], x[1]] for x in sorted(models, key = lambda x: x[1])]\n",
    "        self.best_model = sorted_models[-1]\n",
    "        return self.best_model[0], self.best_model[1]\n",
    "\n",
    "    def random_search(self, verbose = 1, group_size = 5, iterations = 20, params = None):\n",
    "        if params:\n",
    "            params = self.generate_all_possible_params(params)\n",
    "        else:\n",
    "            params = self.generate_all_possible_params(self.params)\n",
    "\n",
    "        models = []\n",
    "        for iteration in range(iterations):\n",
    "            random_group = np.random.choice(params, group_size)\n",
    "            for random_params in random_group:\n",
    "                model, ratio = self.fit_model(random_params)\n",
    "                models.append([random_params, ratio])\n",
    "\n",
    "            if verbose >= 1:\n",
    "                print('{:.4f}'.format((iteration+1)/iterations), end = '\\r')\n",
    "\n",
    "        sorted_models = [[x[0], x[1]] for x in sorted(models, key = lambda x: x[1])]\n",
    "        self.best_model = sorted_models[-1]\n",
    "        return self.best_model[0], self.best_model[1]\n",
    "\n",
    "    def genetic_search(self):\n",
    "        pass \n",
    "\n",
    "    def auto_tune_pipeline(self, pipeline = ['random', 'grid'], narrow_to = 0.2, params = None):\n",
    "        if params:\n",
    "            params = params\n",
    "        else:\n",
    "            params = self.params\n",
    "        \n",
    "        possible_params_lengths = {key: len([param for param in np.arange(params[key][0], params[key][1], params[key][2])]) for key in list(params.keys())}\n",
    "\n",
    "        for search in pipeline:\n",
    "            if search == 'random':\n",
    "                best_params, score = self.random_search(params = params, group_size = 5, iterations = 50)\n",
    "            elif search == 'grid':\n",
    "                best_params, score = self.random_search(params = params)\n",
    "\n",
    "\n",
    "            for key in best_params.keys():\n",
    "                key_type = type(params[key][2])\n",
    "                params_length = possible_params_lengths[key]\n",
    "                new_min = key_type(best_params[key] - key_type(narrow_to * params_length) * params[key][2])\n",
    "                new_max = key_type(best_params[key] + key_type(narrow_to * params_length) * params[key][2])\n",
    "                if new_min > params[key][0]:\n",
    "                    params[key][0] = new_min\n",
    "                if new_max < params[key][1]:\n",
    "                    params[key][1] = new_max\n",
    "            print('new search ranges for parameters: {}'.format(params))\n",
    "\n",
    "            print('performed {} serach with max score of {} and best parameters {}'.format(search, score, best_params))\n",
    "\n",
    "        return best_params, score\n",
    "\n",
    "\n",
    "    "
   ]
  },
  {
   "cell_type": "code",
   "execution_count": 19,
   "metadata": {},
   "outputs": [
    {
     "output_type": "execute_result",
     "data": {
      "text/plain": "Index([&#39;sensor_light&#39;, &#39;sensor_temperature&#39;, &#39;sensor_desktop&#39;, &#39;device_blinds&#39;,\n       &#39;device_lamp&#39;],\n      dtype=&#39;object&#39;)"
     },
     "metadata": {},
     "execution_count": 19
    }
   ],
   "source": [
    "real_data_df.columns"
   ]
  },
  {
   "cell_type": "code",
   "execution_count": 20,
   "metadata": {},
   "outputs": [],
   "source": [
    "XGB_PARAMS = {'n_estimators ': [20, 300, 20], \n",
    "                'learning_rate': [0.01, 0.1, 0.01], \n",
    "                'max_depth': [3, 300, 30], \n",
    "                'subsample': [0.8, 1, 0.05], \n",
    "                'colsample_bytree': [0.3, 0.8, 0.05],\n",
    "                'gamma': [0, 5, 1],\n",
    "                'verbosity': [0, 0, 1]}\n",
    "\n",
    "X = deepcopy(real_data_df.drop(columns = ['device_blinds']))\n",
    "y = deepcopy(real_data_df['device_blinds'])\n"
   ]
  },
  {
   "cell_type": "code",
   "execution_count": 21,
   "metadata": {},
   "outputs": [],
   "source": [
    "# params = {'n_estimators ': [1, 50, 1], \n",
    "#                 'learning_rate': [5, 15, 5], \n",
    "#                 'max_depth': [0.01, 0.1, 0.01]}\n",
    "# params_unpacked = {key: list(np.arange(params[key][0], params[key][1] + params[key][2], params[key][2])) for key in params.keys()}\n",
    "# params_unpacked\n"
   ]
  },
  {
   "cell_type": "code",
   "execution_count": 22,
   "metadata": {
    "tags": []
   },
   "outputs": [],
   "source": [
    "automl = AutoTuningHyperparameters(XGBClassifier, X, y, XGB_PARAMS, f1_score)"
   ]
  },
  {
   "cell_type": "code",
   "execution_count": 23,
   "metadata": {},
   "outputs": [],
   "source": [
    "# automl pipeline"
   ]
  },
  {
   "cell_type": "code",
   "execution_count": 24,
   "metadata": {
    "tags": []
   },
   "outputs": [
    {
     "output_type": "stream",
     "name": "stdout",
     "text": "new search ranges for parameters: {&#39;n_estimators &#39;: [80, 160, 20], &#39;learning_rate&#39;: [0.01, 0.028000000000000004, 0.01], &#39;max_depth&#39;: [93, 213, 30], &#39;subsample&#39;: [0.9600000000000002, 1, 0.05], &#39;colsample_bytree&#39;: [0.6499999999999999, 0.8, 0.05], &#39;gamma&#39;: [3, 5, 1], &#39;verbosity&#39;: [0, 0, 1]}\nperformed random serach with max score of 0.8148667601683028 and best parameters {&#39;n_estimators &#39;: 120, &#39;learning_rate&#39;: 0.01, &#39;max_depth&#39;: 153, &#39;subsample&#39;: 1.0000000000000002, &#39;colsample_bytree&#39;: 0.7499999999999999, &#39;gamma&#39;: 4, &#39;verbosity&#39;: 0}\nnew search ranges for parameters: {&#39;n_estimators &#39;: [80, 160, 20], &#39;learning_rate&#39;: [0.01, 0.028000000000000004, 0.01], &#39;max_depth&#39;: [93, 183, 30], &#39;subsample&#39;: [0.9600000000000002, 1, 0.05], &#39;colsample_bytree&#39;: [0.7000000000000001, 0.8, 0.05], &#39;gamma&#39;: [3, 5, 1], &#39;verbosity&#39;: [0, 0, 1]}\nperformed grid serach with max score of 0.8148667601683028 and best parameters {&#39;n_estimators &#39;: 120, &#39;learning_rate&#39;: 0.01, &#39;max_depth&#39;: 123, &#39;subsample&#39;: 0.9600000000000002, &#39;colsample_bytree&#39;: 0.8, &#39;gamma&#39;: 4, &#39;verbosity&#39;: 0}\n"
    }
   ],
   "source": [
    "best_params, score = automl.auto_tune_pipeline()\n"
   ]
  },
  {
   "cell_type": "code",
   "execution_count": 25,
   "metadata": {},
   "outputs": [
    {
     "output_type": "execute_result",
     "data": {
      "text/plain": "{&#39;n_estimators &#39;: 120,\n &#39;learning_rate&#39;: 0.01,\n &#39;max_depth&#39;: 123,\n &#39;subsample&#39;: 0.9600000000000002,\n &#39;colsample_bytree&#39;: 0.8,\n &#39;gamma&#39;: 4,\n &#39;verbosity&#39;: 0}"
     },
     "metadata": {},
     "execution_count": 25
    }
   ],
   "source": [
    "best_params\n"
   ]
  },
  {
   "cell_type": "code",
   "execution_count": 26,
   "metadata": {},
   "outputs": [],
   "source": [
    "# Next thing that is needed for this project is data preprocessing module. During the analysis I had to analyse data only from one  device. Unfortunately, this is not the case in real life iot system. We can have lots of devices, sending data in not parallel time (ex. varying in one second). Preprocessing module should be able to properly create array of data, with properly standarized features, and joined tables from dfferent devices. Also, as the data is in form of time series, it should be properly batched and padded."
   ]
  },
  {
   "cell_type": "code",
   "execution_count": 30,
   "metadata": {},
   "outputs": [],
   "source": [
    "data_dfs = [pd.DataFrame(data[key]) for key in list(data.keys())[1:]]"
   ]
  },
  {
   "cell_type": "code",
   "execution_count": 43,
   "metadata": {},
   "outputs": [
    {
     "output_type": "execute_result",
     "data": {
      "text/plain": "                    date  sensor_light sensor_temperature  sensor_desktop  \\\n0    2020-10-06 17:54:00          0.51               22.4               1   \n1    2020-10-06 17:54:20          0.50               22.5               1   \n2    2020-10-06 17:54:40          0.50               22.5               1   \n3    2020-10-06 17:55:00          0.49               22.5               1   \n4    2020-10-06 17:55:20          0.49               22.5               1   \n...                  ...           ...                ...             ...   \n2646 2020-10-07 08:42:00          0.48               22.1               0   \n2647 2020-10-07 08:42:20          0.47               22.1               0   \n2648 2020-10-07 08:42:39          0.47               22.1               0   \n2649 2020-10-07 08:42:59          0.47               22.1               0   \n2650 2020-10-07 08:43:19          0.47               22.1               0   \n\n      device_blinds  device_lamp  \n0                 1            0  \n1                 1            0  \n2                 1            0  \n3                 1            0  \n4                 1            0  \n...             ...          ...  \n2646              1            0  \n2647              1            0  \n2648              1            0  \n2649              1            0  \n2650              1            0  \n\n[2651 rows x 6 columns]",
      "text/html": "<div>\n<style scoped>\n    .dataframe tbody tr th:only-of-type {\n        vertical-align: middle;\n    }\n\n    .dataframe tbody tr th {\n        vertical-align: top;\n    }\n\n    .dataframe thead th {\n        text-align: right;\n    }\n</style>\n<table border=\"1\" class=\"dataframe\">\n  <thead>\n    <tr style=\"text-align: right;\">\n      <th></th>\n      <th>date</th>\n      <th>sensor_light</th>\n      <th>sensor_temperature</th>\n      <th>sensor_desktop</th>\n      <th>device_blinds</th>\n      <th>device_lamp</th>\n    </tr>\n  </thead>\n  <tbody>\n    <tr>\n      <td>0</td>\n      <td>2020-10-06 17:54:00</td>\n      <td>0.51</td>\n      <td>22.4</td>\n      <td>1</td>\n      <td>1</td>\n      <td>0</td>\n    </tr>\n    <tr>\n      <td>1</td>\n      <td>2020-10-06 17:54:20</td>\n      <td>0.50</td>\n      <td>22.5</td>\n      <td>1</td>\n      <td>1</td>\n      <td>0</td>\n    </tr>\n    <tr>\n      <td>2</td>\n      <td>2020-10-06 17:54:40</td>\n      <td>0.50</td>\n      <td>22.5</td>\n      <td>1</td>\n      <td>1</td>\n      <td>0</td>\n    </tr>\n    <tr>\n      <td>3</td>\n      <td>2020-10-06 17:55:00</td>\n      <td>0.49</td>\n      <td>22.5</td>\n      <td>1</td>\n      <td>1</td>\n      <td>0</td>\n    </tr>\n    <tr>\n      <td>4</td>\n      <td>2020-10-06 17:55:20</td>\n      <td>0.49</td>\n      <td>22.5</td>\n      <td>1</td>\n      <td>1</td>\n      <td>0</td>\n    </tr>\n    <tr>\n      <td>...</td>\n      <td>...</td>\n      <td>...</td>\n      <td>...</td>\n      <td>...</td>\n      <td>...</td>\n      <td>...</td>\n    </tr>\n    <tr>\n      <td>2646</td>\n      <td>2020-10-07 08:42:00</td>\n      <td>0.48</td>\n      <td>22.1</td>\n      <td>0</td>\n      <td>1</td>\n      <td>0</td>\n    </tr>\n    <tr>\n      <td>2647</td>\n      <td>2020-10-07 08:42:20</td>\n      <td>0.47</td>\n      <td>22.1</td>\n      <td>0</td>\n      <td>1</td>\n      <td>0</td>\n    </tr>\n    <tr>\n      <td>2648</td>\n      <td>2020-10-07 08:42:39</td>\n      <td>0.47</td>\n      <td>22.1</td>\n      <td>0</td>\n      <td>1</td>\n      <td>0</td>\n    </tr>\n    <tr>\n      <td>2649</td>\n      <td>2020-10-07 08:42:59</td>\n      <td>0.47</td>\n      <td>22.1</td>\n      <td>0</td>\n      <td>1</td>\n      <td>0</td>\n    </tr>\n    <tr>\n      <td>2650</td>\n      <td>2020-10-07 08:43:19</td>\n      <td>0.47</td>\n      <td>22.1</td>\n      <td>0</td>\n      <td>1</td>\n      <td>0</td>\n    </tr>\n  </tbody>\n</table>\n<p>2651 rows × 6 columns</p>\n</div>"
     },
     "metadata": {},
     "execution_count": 43
    }
   ],
   "source": [
    "copy_df_1 = deepcopy(data_dfs[0])\n",
    "copy_df_1['date'] = pd.to_datetime(copy_df_1['date'])\n",
    "copy_df_1"
   ]
  },
  {
   "cell_type": "code",
   "execution_count": 44,
   "metadata": {},
   "outputs": [
    {
     "output_type": "execute_result",
     "data": {
      "text/plain": "                    date  sensor_light\n0    2020-10-06 19:12:40          0.00\n1    2020-10-06 19:17:01          0.00\n2    2020-10-06 19:17:21          0.00\n3    2020-10-06 19:17:40          0.00\n4    2020-10-06 19:18:00          0.00\n...                  ...           ...\n2411 2020-10-07 08:42:00          0.75\n2412 2020-10-07 08:42:20          0.75\n2413 2020-10-07 08:42:40          0.75\n2414 2020-10-07 08:43:00          0.75\n2415 2020-10-07 08:43:20          0.75\n\n[2416 rows x 2 columns]",
      "text/html": "<div>\n<style scoped>\n    .dataframe tbody tr th:only-of-type {\n        vertical-align: middle;\n    }\n\n    .dataframe tbody tr th {\n        vertical-align: top;\n    }\n\n    .dataframe thead th {\n        text-align: right;\n    }\n</style>\n<table border=\"1\" class=\"dataframe\">\n  <thead>\n    <tr style=\"text-align: right;\">\n      <th></th>\n      <th>date</th>\n      <th>sensor_light</th>\n    </tr>\n  </thead>\n  <tbody>\n    <tr>\n      <td>0</td>\n      <td>2020-10-06 19:12:40</td>\n      <td>0.00</td>\n    </tr>\n    <tr>\n      <td>1</td>\n      <td>2020-10-06 19:17:01</td>\n      <td>0.00</td>\n    </tr>\n    <tr>\n      <td>2</td>\n      <td>2020-10-06 19:17:21</td>\n      <td>0.00</td>\n    </tr>\n    <tr>\n      <td>3</td>\n      <td>2020-10-06 19:17:40</td>\n      <td>0.00</td>\n    </tr>\n    <tr>\n      <td>4</td>\n      <td>2020-10-06 19:18:00</td>\n      <td>0.00</td>\n    </tr>\n    <tr>\n      <td>...</td>\n      <td>...</td>\n      <td>...</td>\n    </tr>\n    <tr>\n      <td>2411</td>\n      <td>2020-10-07 08:42:00</td>\n      <td>0.75</td>\n    </tr>\n    <tr>\n      <td>2412</td>\n      <td>2020-10-07 08:42:20</td>\n      <td>0.75</td>\n    </tr>\n    <tr>\n      <td>2413</td>\n      <td>2020-10-07 08:42:40</td>\n      <td>0.75</td>\n    </tr>\n    <tr>\n      <td>2414</td>\n      <td>2020-10-07 08:43:00</td>\n      <td>0.75</td>\n    </tr>\n    <tr>\n      <td>2415</td>\n      <td>2020-10-07 08:43:20</td>\n      <td>0.75</td>\n    </tr>\n  </tbody>\n</table>\n<p>2416 rows × 2 columns</p>\n</div>"
     },
     "metadata": {},
     "execution_count": 44
    }
   ],
   "source": [
    "copy_df_2 = deepcopy(data_dfs[1])\n",
    "copy_df_2['date'] = pd.to_datetime(copy_df_2['date'])\n",
    "copy_df_2"
   ]
  },
  {
   "cell_type": "code",
   "execution_count": 56,
   "metadata": {},
   "outputs": [
    {
     "output_type": "execute_result",
     "data": {
      "text/plain": "                   date  sensor_light_room_Jan_synchronized  \\\n300 2020-10-06 19:37:40                                0.49   \n301 2020-10-06 19:38:00                                0.49   \n302 2020-10-06 19:38:20                                0.49   \n303 2020-10-06 19:38:40                                0.49   \n304 2020-10-06 19:39:00                                0.49   \n305 2020-10-06 19:39:20                                0.49   \n306 2020-10-06 19:39:40                                0.49   \n307 2020-10-06 19:40:00                                0.49   \n308 2020-10-06 19:40:20                                0.49   \n309 2020-10-06 19:40:40                                0.49   \n310 2020-10-06 19:41:00                                0.49   \n311 2020-10-06 19:41:20                                0.49   \n312 2020-10-06 19:41:40                                0.49   \n313 2020-10-06 19:42:00                                0.49   \n314 2020-10-06 19:42:20                                0.49   \n315 2020-10-06 19:42:40                                0.49   \n316 2020-10-06 19:43:00                                0.49   \n317 2020-10-06 19:43:20                                0.49   \n318 2020-10-06 19:43:40                                0.49   \n319 2020-10-06 19:44:00                                0.49   \n320 2020-10-06 19:44:20                                0.49   \n321 2020-10-06 19:44:40                                0.49   \n322 2020-10-06 19:45:00                                0.49   \n323 2020-10-06 19:45:21                                0.49   \n324 2020-10-06 19:45:40                                0.49   \n325 2020-10-06 19:46:00                                0.49   \n326 2020-10-06 19:46:21                                0.49   \n327 2020-10-06 19:46:41                                0.49   \n328 2020-10-06 19:47:01                                0.49   \n329 2020-10-06 19:47:21                                0.49   \n330 2020-10-06 19:47:40                                0.49   \n331 2020-10-06 19:48:00                                0.49   \n332 2020-10-06 19:48:21                                0.49   \n333 2020-10-06 19:48:41                                0.49   \n334 2020-10-06 19:49:01                                0.49   \n335 2020-10-06 19:49:20                                0.49   \n336 2020-10-06 19:49:40                                0.49   \n337 2020-10-06 19:50:00                                0.49   \n338 2020-10-06 19:50:20                                0.49   \n339 2020-10-06 19:50:40                                0.49   \n340 2020-10-06 19:51:00                                0.49   \n341 2020-10-06 19:51:20                                0.49   \n342 2020-10-06 19:51:40                                0.49   \n343 2020-10-06 19:52:00                                0.49   \n344 2020-10-06 19:52:20                                0.49   \n345 2020-10-06 19:52:40                                0.49   \n346 2020-10-06 19:53:00                                0.49   \n347 2020-10-06 19:53:20                                0.49   \n348 2020-10-06 19:53:40                                0.49   \n349 2020-10-06 19:54:00                                0.49   \n\n    sensor_temperature  sensor_desktop  device_blinds  device_lamp  \\\n300               22.4               1              0            1   \n301               22.4               1              0            1   \n302               22.4               1              0            1   \n303               22.4               1              0            1   \n304               22.4               1              0            1   \n305               22.5               1              0            1   \n306               22.5               1              0            1   \n307               22.5               1              0            1   \n308               22.5               1              0            1   \n309               22.5               1              0            1   \n310               22.5               1              0            1   \n311               22.5               1              0            1   \n312               22.5               1              0            1   \n313               22.5               1              0            1   \n314               22.5               1              0            1   \n315               22.5               1              0            1   \n316               22.5               1              0            1   \n317               22.5               1              0            1   \n318               22.5               1              0            1   \n319               22.5               1              0            1   \n320               22.5               1              0            1   \n321               22.5               1              0            1   \n322               22.5               1              0            1   \n323               22.5               1              0            1   \n324               22.5               1              0            1   \n325               22.5               1              0            1   \n326               22.5               1              0            1   \n327               22.5               1              0            1   \n328               22.5               1              0            1   \n329               22.5               1              0            1   \n330               22.5               1              0            1   \n331               22.5               1              0            1   \n332               22.5               1              0            1   \n333               22.5               1              0            1   \n334               22.5               1              0            1   \n335               22.5               1              0            1   \n336               22.5               1              0            1   \n337               22.5               1              0            1   \n338               22.4               1              0            1   \n339               22.4               1              0            1   \n340               22.4               1              0            1   \n341               22.4               1              0            1   \n342               22.4               1              0            1   \n343               22.4               1              0            1   \n344               22.4               1              0            1   \n345               22.4               1              0            1   \n346               22.4               1              0            1   \n347               22.4               1              0            1   \n348               22.4               1              0            1   \n349               22.4               1              0            1   \n\n     sensor_light_external_sensors  \n300                            0.0  \n301                            0.0  \n302                            0.0  \n303                            0.0  \n304                            0.0  \n305                            0.0  \n306                            0.0  \n307                            0.0  \n308                            0.0  \n309                            0.0  \n310                            0.0  \n311                            0.0  \n312                            0.0  \n313                            0.0  \n314                            0.0  \n315                            0.0  \n316                            0.0  \n317                            0.0  \n318                            0.0  \n319                            0.0  \n320                            0.0  \n321                            0.0  \n322                            0.0  \n323                            0.0  \n324                            0.0  \n325                            0.0  \n326                            0.0  \n327                            0.0  \n328                            0.0  \n329                            0.0  \n330                            0.0  \n331                            0.0  \n332                            0.0  \n333                            0.0  \n334                            0.0  \n335                            0.0  \n336                            0.0  \n337                            0.0  \n338                            0.0  \n339                            0.0  \n340                            0.0  \n341                            0.0  \n342                            0.0  \n343                            0.0  \n344                            0.0  \n345                            0.0  \n346                            0.0  \n347                            0.0  \n348                            0.0  \n349                            0.0  ",
      "text/html": "<div>\n<style scoped>\n    .dataframe tbody tr th:only-of-type {\n        vertical-align: middle;\n    }\n\n    .dataframe tbody tr th {\n        vertical-align: top;\n    }\n\n    .dataframe thead th {\n        text-align: right;\n    }\n</style>\n<table border=\"1\" class=\"dataframe\">\n  <thead>\n    <tr style=\"text-align: right;\">\n      <th></th>\n      <th>date</th>\n      <th>sensor_light_room_Jan_synchronized</th>\n      <th>sensor_temperature</th>\n      <th>sensor_desktop</th>\n      <th>device_blinds</th>\n      <th>device_lamp</th>\n      <th>sensor_light_external_sensors</th>\n    </tr>\n  </thead>\n  <tbody>\n    <tr>\n      <td>300</td>\n      <td>2020-10-06 19:37:40</td>\n      <td>0.49</td>\n      <td>22.4</td>\n      <td>1</td>\n      <td>0</td>\n      <td>1</td>\n      <td>0.0</td>\n    </tr>\n    <tr>\n      <td>301</td>\n      <td>2020-10-06 19:38:00</td>\n      <td>0.49</td>\n      <td>22.4</td>\n      <td>1</td>\n      <td>0</td>\n      <td>1</td>\n      <td>0.0</td>\n    </tr>\n    <tr>\n      <td>302</td>\n      <td>2020-10-06 19:38:20</td>\n      <td>0.49</td>\n      <td>22.4</td>\n      <td>1</td>\n      <td>0</td>\n      <td>1</td>\n      <td>0.0</td>\n    </tr>\n    <tr>\n      <td>303</td>\n      <td>2020-10-06 19:38:40</td>\n      <td>0.49</td>\n      <td>22.4</td>\n      <td>1</td>\n      <td>0</td>\n      <td>1</td>\n      <td>0.0</td>\n    </tr>\n    <tr>\n      <td>304</td>\n      <td>2020-10-06 19:39:00</td>\n      <td>0.49</td>\n      <td>22.4</td>\n      <td>1</td>\n      <td>0</td>\n      <td>1</td>\n      <td>0.0</td>\n    </tr>\n    <tr>\n      <td>305</td>\n      <td>2020-10-06 19:39:20</td>\n      <td>0.49</td>\n      <td>22.5</td>\n      <td>1</td>\n      <td>0</td>\n      <td>1</td>\n      <td>0.0</td>\n    </tr>\n    <tr>\n      <td>306</td>\n      <td>2020-10-06 19:39:40</td>\n      <td>0.49</td>\n      <td>22.5</td>\n      <td>1</td>\n      <td>0</td>\n      <td>1</td>\n      <td>0.0</td>\n    </tr>\n    <tr>\n      <td>307</td>\n      <td>2020-10-06 19:40:00</td>\n      <td>0.49</td>\n      <td>22.5</td>\n      <td>1</td>\n      <td>0</td>\n      <td>1</td>\n      <td>0.0</td>\n    </tr>\n    <tr>\n      <td>308</td>\n      <td>2020-10-06 19:40:20</td>\n      <td>0.49</td>\n      <td>22.5</td>\n      <td>1</td>\n      <td>0</td>\n      <td>1</td>\n      <td>0.0</td>\n    </tr>\n    <tr>\n      <td>309</td>\n      <td>2020-10-06 19:40:40</td>\n      <td>0.49</td>\n      <td>22.5</td>\n      <td>1</td>\n      <td>0</td>\n      <td>1</td>\n      <td>0.0</td>\n    </tr>\n    <tr>\n      <td>310</td>\n      <td>2020-10-06 19:41:00</td>\n      <td>0.49</td>\n      <td>22.5</td>\n      <td>1</td>\n      <td>0</td>\n      <td>1</td>\n      <td>0.0</td>\n    </tr>\n    <tr>\n      <td>311</td>\n      <td>2020-10-06 19:41:20</td>\n      <td>0.49</td>\n      <td>22.5</td>\n      <td>1</td>\n      <td>0</td>\n      <td>1</td>\n      <td>0.0</td>\n    </tr>\n    <tr>\n      <td>312</td>\n      <td>2020-10-06 19:41:40</td>\n      <td>0.49</td>\n      <td>22.5</td>\n      <td>1</td>\n      <td>0</td>\n      <td>1</td>\n      <td>0.0</td>\n    </tr>\n    <tr>\n      <td>313</td>\n      <td>2020-10-06 19:42:00</td>\n      <td>0.49</td>\n      <td>22.5</td>\n      <td>1</td>\n      <td>0</td>\n      <td>1</td>\n      <td>0.0</td>\n    </tr>\n    <tr>\n      <td>314</td>\n      <td>2020-10-06 19:42:20</td>\n      <td>0.49</td>\n      <td>22.5</td>\n      <td>1</td>\n      <td>0</td>\n      <td>1</td>\n      <td>0.0</td>\n    </tr>\n    <tr>\n      <td>315</td>\n      <td>2020-10-06 19:42:40</td>\n      <td>0.49</td>\n      <td>22.5</td>\n      <td>1</td>\n      <td>0</td>\n      <td>1</td>\n      <td>0.0</td>\n    </tr>\n    <tr>\n      <td>316</td>\n      <td>2020-10-06 19:43:00</td>\n      <td>0.49</td>\n      <td>22.5</td>\n      <td>1</td>\n      <td>0</td>\n      <td>1</td>\n      <td>0.0</td>\n    </tr>\n    <tr>\n      <td>317</td>\n      <td>2020-10-06 19:43:20</td>\n      <td>0.49</td>\n      <td>22.5</td>\n      <td>1</td>\n      <td>0</td>\n      <td>1</td>\n      <td>0.0</td>\n    </tr>\n    <tr>\n      <td>318</td>\n      <td>2020-10-06 19:43:40</td>\n      <td>0.49</td>\n      <td>22.5</td>\n      <td>1</td>\n      <td>0</td>\n      <td>1</td>\n      <td>0.0</td>\n    </tr>\n    <tr>\n      <td>319</td>\n      <td>2020-10-06 19:44:00</td>\n      <td>0.49</td>\n      <td>22.5</td>\n      <td>1</td>\n      <td>0</td>\n      <td>1</td>\n      <td>0.0</td>\n    </tr>\n    <tr>\n      <td>320</td>\n      <td>2020-10-06 19:44:20</td>\n      <td>0.49</td>\n      <td>22.5</td>\n      <td>1</td>\n      <td>0</td>\n      <td>1</td>\n      <td>0.0</td>\n    </tr>\n    <tr>\n      <td>321</td>\n      <td>2020-10-06 19:44:40</td>\n      <td>0.49</td>\n      <td>22.5</td>\n      <td>1</td>\n      <td>0</td>\n      <td>1</td>\n      <td>0.0</td>\n    </tr>\n    <tr>\n      <td>322</td>\n      <td>2020-10-06 19:45:00</td>\n      <td>0.49</td>\n      <td>22.5</td>\n      <td>1</td>\n      <td>0</td>\n      <td>1</td>\n      <td>0.0</td>\n    </tr>\n    <tr>\n      <td>323</td>\n      <td>2020-10-06 19:45:21</td>\n      <td>0.49</td>\n      <td>22.5</td>\n      <td>1</td>\n      <td>0</td>\n      <td>1</td>\n      <td>0.0</td>\n    </tr>\n    <tr>\n      <td>324</td>\n      <td>2020-10-06 19:45:40</td>\n      <td>0.49</td>\n      <td>22.5</td>\n      <td>1</td>\n      <td>0</td>\n      <td>1</td>\n      <td>0.0</td>\n    </tr>\n    <tr>\n      <td>325</td>\n      <td>2020-10-06 19:46:00</td>\n      <td>0.49</td>\n      <td>22.5</td>\n      <td>1</td>\n      <td>0</td>\n      <td>1</td>\n      <td>0.0</td>\n    </tr>\n    <tr>\n      <td>326</td>\n      <td>2020-10-06 19:46:21</td>\n      <td>0.49</td>\n      <td>22.5</td>\n      <td>1</td>\n      <td>0</td>\n      <td>1</td>\n      <td>0.0</td>\n    </tr>\n    <tr>\n      <td>327</td>\n      <td>2020-10-06 19:46:41</td>\n      <td>0.49</td>\n      <td>22.5</td>\n      <td>1</td>\n      <td>0</td>\n      <td>1</td>\n      <td>0.0</td>\n    </tr>\n    <tr>\n      <td>328</td>\n      <td>2020-10-06 19:47:01</td>\n      <td>0.49</td>\n      <td>22.5</td>\n      <td>1</td>\n      <td>0</td>\n      <td>1</td>\n      <td>0.0</td>\n    </tr>\n    <tr>\n      <td>329</td>\n      <td>2020-10-06 19:47:21</td>\n      <td>0.49</td>\n      <td>22.5</td>\n      <td>1</td>\n      <td>0</td>\n      <td>1</td>\n      <td>0.0</td>\n    </tr>\n    <tr>\n      <td>330</td>\n      <td>2020-10-06 19:47:40</td>\n      <td>0.49</td>\n      <td>22.5</td>\n      <td>1</td>\n      <td>0</td>\n      <td>1</td>\n      <td>0.0</td>\n    </tr>\n    <tr>\n      <td>331</td>\n      <td>2020-10-06 19:48:00</td>\n      <td>0.49</td>\n      <td>22.5</td>\n      <td>1</td>\n      <td>0</td>\n      <td>1</td>\n      <td>0.0</td>\n    </tr>\n    <tr>\n      <td>332</td>\n      <td>2020-10-06 19:48:21</td>\n      <td>0.49</td>\n      <td>22.5</td>\n      <td>1</td>\n      <td>0</td>\n      <td>1</td>\n      <td>0.0</td>\n    </tr>\n    <tr>\n      <td>333</td>\n      <td>2020-10-06 19:48:41</td>\n      <td>0.49</td>\n      <td>22.5</td>\n      <td>1</td>\n      <td>0</td>\n      <td>1</td>\n      <td>0.0</td>\n    </tr>\n    <tr>\n      <td>334</td>\n      <td>2020-10-06 19:49:01</td>\n      <td>0.49</td>\n      <td>22.5</td>\n      <td>1</td>\n      <td>0</td>\n      <td>1</td>\n      <td>0.0</td>\n    </tr>\n    <tr>\n      <td>335</td>\n      <td>2020-10-06 19:49:20</td>\n      <td>0.49</td>\n      <td>22.5</td>\n      <td>1</td>\n      <td>0</td>\n      <td>1</td>\n      <td>0.0</td>\n    </tr>\n    <tr>\n      <td>336</td>\n      <td>2020-10-06 19:49:40</td>\n      <td>0.49</td>\n      <td>22.5</td>\n      <td>1</td>\n      <td>0</td>\n      <td>1</td>\n      <td>0.0</td>\n    </tr>\n    <tr>\n      <td>337</td>\n      <td>2020-10-06 19:50:00</td>\n      <td>0.49</td>\n      <td>22.5</td>\n      <td>1</td>\n      <td>0</td>\n      <td>1</td>\n      <td>0.0</td>\n    </tr>\n    <tr>\n      <td>338</td>\n      <td>2020-10-06 19:50:20</td>\n      <td>0.49</td>\n      <td>22.4</td>\n      <td>1</td>\n      <td>0</td>\n      <td>1</td>\n      <td>0.0</td>\n    </tr>\n    <tr>\n      <td>339</td>\n      <td>2020-10-06 19:50:40</td>\n      <td>0.49</td>\n      <td>22.4</td>\n      <td>1</td>\n      <td>0</td>\n      <td>1</td>\n      <td>0.0</td>\n    </tr>\n    <tr>\n      <td>340</td>\n      <td>2020-10-06 19:51:00</td>\n      <td>0.49</td>\n      <td>22.4</td>\n      <td>1</td>\n      <td>0</td>\n      <td>1</td>\n      <td>0.0</td>\n    </tr>\n    <tr>\n      <td>341</td>\n      <td>2020-10-06 19:51:20</td>\n      <td>0.49</td>\n      <td>22.4</td>\n      <td>1</td>\n      <td>0</td>\n      <td>1</td>\n      <td>0.0</td>\n    </tr>\n    <tr>\n      <td>342</td>\n      <td>2020-10-06 19:51:40</td>\n      <td>0.49</td>\n      <td>22.4</td>\n      <td>1</td>\n      <td>0</td>\n      <td>1</td>\n      <td>0.0</td>\n    </tr>\n    <tr>\n      <td>343</td>\n      <td>2020-10-06 19:52:00</td>\n      <td>0.49</td>\n      <td>22.4</td>\n      <td>1</td>\n      <td>0</td>\n      <td>1</td>\n      <td>0.0</td>\n    </tr>\n    <tr>\n      <td>344</td>\n      <td>2020-10-06 19:52:20</td>\n      <td>0.49</td>\n      <td>22.4</td>\n      <td>1</td>\n      <td>0</td>\n      <td>1</td>\n      <td>0.0</td>\n    </tr>\n    <tr>\n      <td>345</td>\n      <td>2020-10-06 19:52:40</td>\n      <td>0.49</td>\n      <td>22.4</td>\n      <td>1</td>\n      <td>0</td>\n      <td>1</td>\n      <td>0.0</td>\n    </tr>\n    <tr>\n      <td>346</td>\n      <td>2020-10-06 19:53:00</td>\n      <td>0.49</td>\n      <td>22.4</td>\n      <td>1</td>\n      <td>0</td>\n      <td>1</td>\n      <td>0.0</td>\n    </tr>\n    <tr>\n      <td>347</td>\n      <td>2020-10-06 19:53:20</td>\n      <td>0.49</td>\n      <td>22.4</td>\n      <td>1</td>\n      <td>0</td>\n      <td>1</td>\n      <td>0.0</td>\n    </tr>\n    <tr>\n      <td>348</td>\n      <td>2020-10-06 19:53:40</td>\n      <td>0.49</td>\n      <td>22.4</td>\n      <td>1</td>\n      <td>0</td>\n      <td>1</td>\n      <td>0.0</td>\n    </tr>\n    <tr>\n      <td>349</td>\n      <td>2020-10-06 19:54:00</td>\n      <td>0.49</td>\n      <td>22.4</td>\n      <td>1</td>\n      <td>0</td>\n      <td>1</td>\n      <td>0.0</td>\n    </tr>\n  </tbody>\n</table>\n</div>"
     },
     "metadata": {},
     "execution_count": 56
    }
   ],
   "source": [
    "pd.merge_asof(copy_df_1, copy_df_2, on = \"date\", tolerance=pd.Timedelta('5s'), direction='backward', suffixes = ['_' + key for key in list(data.keys())[1:]])[300:350]"
   ]
  },
  {
   "cell_type": "code",
   "execution_count": 111,
   "metadata": {},
   "outputs": [],
   "source": [
    "class PreprocessData(object):\n",
    "    def __init__(self, data, standarization_rule = 'sensor', tolerance=pd.Timedelta('5s'), nan_value = -1):\n",
    "        data_dfs = [pd.DataFrame(data[key]) for key in list(data.keys())]\n",
    "        for data_df_index in range(len(data_dfs)):\n",
    "            data_dfs[data_df_index]['date'] = pd.to_datetime(data_dfs[data_df_index]['date'])\n",
    "            data_dfs[data_df_index] = data_dfs[data_df_index].sort_values(by='date')\n",
    "\n",
    "        for data_df_index in range(len(data_dfs[:-1])):\n",
    "            data_dfs[data_df_index + 1] = pd.merge_asof(data_dfs[data_df_index], data_dfs[data_df_index + 1], on = \"date\", tolerance=tolerance, direction='backward', suffixes = ['_' + key for key in list                                                 (data.keys())[data_df_index:data_df_index+2]]).fillna(nan_value)\n",
    "\n",
    "        self.data_df = data_dfs[-1]\n",
    "\n"
   ]
  },
  {
   "cell_type": "code",
   "execution_count": 112,
   "metadata": {},
   "outputs": [],
   "source": [
    "data_preprocessor = PreprocessData({key: data[key] for key in list(data.keys())[1:]})"
   ]
  },
  {
   "cell_type": "code",
   "execution_count": 113,
   "metadata": {},
   "outputs": [
    {
     "output_type": "execute_result",
     "data": {
      "text/plain": "                    date  sensor_light_room_Jan_synchronized  \\\n0    2020-10-06 17:54:00                                0.51   \n1    2020-10-06 17:54:20                                0.50   \n2    2020-10-06 17:54:40                                0.50   \n3    2020-10-06 17:55:00                                0.49   \n4    2020-10-06 17:55:20                                0.49   \n...                  ...                                 ...   \n2646 2020-10-07 08:42:00                                0.48   \n2647 2020-10-07 08:42:20                                0.47   \n2648 2020-10-07 08:42:39                                0.47   \n2649 2020-10-07 08:42:59                                0.47   \n2650 2020-10-07 08:43:19                                0.47   \n\n     sensor_temperature  sensor_desktop  device_blinds  device_lamp  \\\n0                  22.4               1              1            0   \n1                  22.5               1              1            0   \n2                  22.5               1              1            0   \n3                  22.5               1              1            0   \n4                  22.5               1              1            0   \n...                 ...             ...            ...          ...   \n2646               22.1               0              1            0   \n2647               22.1               0              1            0   \n2648               22.1               0              1            0   \n2649               22.1               0              1            0   \n2650               22.1               0              1            0   \n\n      sensor_light_external_sensors  \n0                             -1.00  \n1                             -1.00  \n2                             -1.00  \n3                             -1.00  \n4                             -1.00  \n...                             ...  \n2646                           0.75  \n2647                           0.75  \n2648                          -1.00  \n2649                          -1.00  \n2650                          -1.00  \n\n[2651 rows x 7 columns]",
      "text/html": "<div>\n<style scoped>\n    .dataframe tbody tr th:only-of-type {\n        vertical-align: middle;\n    }\n\n    .dataframe tbody tr th {\n        vertical-align: top;\n    }\n\n    .dataframe thead th {\n        text-align: right;\n    }\n</style>\n<table border=\"1\" class=\"dataframe\">\n  <thead>\n    <tr style=\"text-align: right;\">\n      <th></th>\n      <th>date</th>\n      <th>sensor_light_room_Jan_synchronized</th>\n      <th>sensor_temperature</th>\n      <th>sensor_desktop</th>\n      <th>device_blinds</th>\n      <th>device_lamp</th>\n      <th>sensor_light_external_sensors</th>\n    </tr>\n  </thead>\n  <tbody>\n    <tr>\n      <td>0</td>\n      <td>2020-10-06 17:54:00</td>\n      <td>0.51</td>\n      <td>22.4</td>\n      <td>1</td>\n      <td>1</td>\n      <td>0</td>\n      <td>-1.00</td>\n    </tr>\n    <tr>\n      <td>1</td>\n      <td>2020-10-06 17:54:20</td>\n      <td>0.50</td>\n      <td>22.5</td>\n      <td>1</td>\n      <td>1</td>\n      <td>0</td>\n      <td>-1.00</td>\n    </tr>\n    <tr>\n      <td>2</td>\n      <td>2020-10-06 17:54:40</td>\n      <td>0.50</td>\n      <td>22.5</td>\n      <td>1</td>\n      <td>1</td>\n      <td>0</td>\n      <td>-1.00</td>\n    </tr>\n    <tr>\n      <td>3</td>\n      <td>2020-10-06 17:55:00</td>\n      <td>0.49</td>\n      <td>22.5</td>\n      <td>1</td>\n      <td>1</td>\n      <td>0</td>\n      <td>-1.00</td>\n    </tr>\n    <tr>\n      <td>4</td>\n      <td>2020-10-06 17:55:20</td>\n      <td>0.49</td>\n      <td>22.5</td>\n      <td>1</td>\n      <td>1</td>\n      <td>0</td>\n      <td>-1.00</td>\n    </tr>\n    <tr>\n      <td>...</td>\n      <td>...</td>\n      <td>...</td>\n      <td>...</td>\n      <td>...</td>\n      <td>...</td>\n      <td>...</td>\n      <td>...</td>\n    </tr>\n    <tr>\n      <td>2646</td>\n      <td>2020-10-07 08:42:00</td>\n      <td>0.48</td>\n      <td>22.1</td>\n      <td>0</td>\n      <td>1</td>\n      <td>0</td>\n      <td>0.75</td>\n    </tr>\n    <tr>\n      <td>2647</td>\n      <td>2020-10-07 08:42:20</td>\n      <td>0.47</td>\n      <td>22.1</td>\n      <td>0</td>\n      <td>1</td>\n      <td>0</td>\n      <td>0.75</td>\n    </tr>\n    <tr>\n      <td>2648</td>\n      <td>2020-10-07 08:42:39</td>\n      <td>0.47</td>\n      <td>22.1</td>\n      <td>0</td>\n      <td>1</td>\n      <td>0</td>\n      <td>-1.00</td>\n    </tr>\n    <tr>\n      <td>2649</td>\n      <td>2020-10-07 08:42:59</td>\n      <td>0.47</td>\n      <td>22.1</td>\n      <td>0</td>\n      <td>1</td>\n      <td>0</td>\n      <td>-1.00</td>\n    </tr>\n    <tr>\n      <td>2650</td>\n      <td>2020-10-07 08:43:19</td>\n      <td>0.47</td>\n      <td>22.1</td>\n      <td>0</td>\n      <td>1</td>\n      <td>0</td>\n      <td>-1.00</td>\n    </tr>\n  </tbody>\n</table>\n<p>2651 rows × 7 columns</p>\n</div>"
     },
     "metadata": {},
     "execution_count": 113
    }
   ],
   "source": [
    "data_preprocessor.data_df"
   ]
  },
  {
   "cell_type": "code",
   "execution_count": null,
   "metadata": {},
   "outputs": [],
   "source": []
  }
 ]
}