{
 "metadata": {
  "language_info": {
   "codemirror_mode": {
    "name": "ipython",
    "version": 3
   },
   "file_extension": ".py",
   "mimetype": "text/x-python",
   "name": "python",
   "nbconvert_exporter": "python",
   "pygments_lexer": "ipython3",
   "version": "3.8.3-final"
  },
  "orig_nbformat": 2,
  "kernelspec": {
   "name": "Python 3.8.3 64-bit ('base': conda)",
   "display_name": "Python 3.8.3 64-bit ('base': conda)",
   "metadata": {
    "interpreter": {
     "hash": "b3ba2566441a7c06988d0923437866b63cedc61552a5af99d1f4fb67d367b25f"
    }
   }
  }
 },
 "nbformat": 4,
 "nbformat_minor": 2,
 "cells": [
  {
   "cell_type": "code",
   "execution_count": 1,
   "metadata": {},
   "outputs": [],
   "source": [
    "import requests\n",
    "import pandas as pd \n",
    "import numpy as np"
   ]
  },
  {
   "cell_type": "code",
   "execution_count": 3,
   "metadata": {},
   "outputs": [
    {
     "output_type": "execute_result",
     "data": {
      "text/plain": "dict_keys([&#39;room_Jan&#39;])"
     },
     "metadata": {},
     "execution_count": 3
    }
   ],
   "source": [
    "data = requests.get('https://d946a72959ed.ngrok.io/data/6ytwk4ivTB7QkmlL0QPA1HNQ7NCOAb6Y').json()\n",
    "data.keys()"
   ]
  },
  {
   "cell_type": "code",
   "execution_count": 4,
   "metadata": {},
   "outputs": [],
   "source": [
    "real_data_df = pd.DataFrame(data['room_Jan'])"
   ]
  },
  {
   "cell_type": "code",
   "execution_count": 5,
   "metadata": {},
   "outputs": [],
   "source": [
    "# During the analysis I didn't know which column represents sensors, and which represents devices. \n",
    "# That is why I have performed some data analysis to determine it. Also all sensors values have been \n",
    "# standarized, so that machine learning algorithms can converge easly to global minimum of \n",
    "# cost function. "
   ]
  },
  {
   "cell_type": "code",
   "execution_count": 6,
   "metadata": {
    "tags": []
   },
   "outputs": [
    {
     "output_type": "stream",
     "name": "stdout",
     "text": "count                          272\nunique                         272\ntop       Sat Oct  3 15:28:32 2020\nfreq                             1\nName: 0, dtype: object\n"
    },
    {
     "output_type": "execute_result",
     "data": {
      "text/plain": "array([&#39;Sat Oct  3 14:02:15 2020&#39;, &#39;Sat Oct  3 14:02:35 2020&#39;,\n       &#39;Sat Oct  3 14:02:55 2020&#39;, &#39;Sat Oct  3 14:03:15 2020&#39;,\n       &#39;Sat Oct  3 14:03:35 2020&#39;, &#39;Sat Oct  3 14:03:55 2020&#39;,\n       &#39;Sat Oct  3 14:04:15 2020&#39;, &#39;Sat Oct  3 14:04:35 2020&#39;,\n       &#39;Sat Oct  3 14:04:55 2020&#39;, &#39;Sat Oct  3 14:05:15 2020&#39;,\n       &#39;Sat Oct  3 14:05:35 2020&#39;, &#39;Sat Oct  3 14:05:55 2020&#39;,\n       &#39;Sat Oct  3 14:06:15 2020&#39;, &#39;Sat Oct  3 14:06:36 2020&#39;,\n       &#39;Sat Oct  3 14:06:56 2020&#39;, &#39;Sat Oct  3 14:07:16 2020&#39;,\n       &#39;Sat Oct  3 14:07:36 2020&#39;, &#39;Sat Oct  3 14:07:56 2020&#39;,\n       &#39;Sat Oct  3 14:08:16 2020&#39;, &#39;Sat Oct  3 14:08:36 2020&#39;,\n       &#39;Sat Oct  3 14:08:56 2020&#39;, &#39;Sat Oct  3 14:09:16 2020&#39;,\n       &#39;Sat Oct  3 14:09:36 2020&#39;, &#39;Sat Oct  3 14:09:56 2020&#39;,\n       &#39;Sat Oct  3 14:10:16 2020&#39;, &#39;Sat Oct  3 14:10:36 2020&#39;,\n       &#39;Sat Oct  3 14:10:56 2020&#39;, &#39;Sat Oct  3 14:11:17 2020&#39;,\n       &#39;Sat Oct  3 14:11:37 2020&#39;, &#39;Sat Oct  3 14:11:57 2020&#39;,\n       &#39;Sat Oct  3 14:12:17 2020&#39;, &#39;Sat Oct  3 14:12:37 2020&#39;,\n       &#39;Sat Oct  3 14:12:57 2020&#39;, &#39;Sat Oct  3 14:13:17 2020&#39;,\n       &#39;Sat Oct  3 14:13:37 2020&#39;, &#39;Sat Oct  3 14:13:57 2020&#39;,\n       &#39;Sat Oct  3 14:14:17 2020&#39;, &#39;Sat Oct  3 14:14:37 2020&#39;,\n       &#39;Sat Oct  3 14:14:57 2020&#39;, &#39;Sat Oct  3 14:15:17 2020&#39;,\n       &#39;Sat Oct  3 14:15:37 2020&#39;, &#39;Sat Oct  3 14:15:57 2020&#39;,\n       &#39;Sat Oct  3 14:16:18 2020&#39;, &#39;Sat Oct  3 14:16:38 2020&#39;,\n       &#39;Sat Oct  3 14:16:58 2020&#39;, &#39;Sat Oct  3 14:17:18 2020&#39;,\n       &#39;Sat Oct  3 14:17:38 2020&#39;, &#39;Sat Oct  3 14:17:58 2020&#39;,\n       &#39;Sat Oct  3 14:18:18 2020&#39;, &#39;Sat Oct  3 14:18:38 2020&#39;,\n       &#39;Sat Oct  3 14:18:58 2020&#39;, &#39;Sat Oct  3 14:19:18 2020&#39;,\n       &#39;Sat Oct  3 14:19:38 2020&#39;, &#39;Sat Oct  3 14:19:58 2020&#39;,\n       &#39;Sat Oct  3 14:20:18 2020&#39;, &#39;Sat Oct  3 14:20:39 2020&#39;,\n       &#39;Sat Oct  3 14:20:59 2020&#39;, &#39;Sat Oct  3 14:21:19 2020&#39;,\n       &#39;Sat Oct  3 14:21:39 2020&#39;, &#39;Sat Oct  3 14:21:59 2020&#39;,\n       &#39;Sat Oct  3 14:22:19 2020&#39;, &#39;Sat Oct  3 14:22:39 2020&#39;,\n       &#39;Sat Oct  3 14:22:59 2020&#39;, &#39;Sat Oct  3 14:23:19 2020&#39;,\n       &#39;Sat Oct  3 14:23:39 2020&#39;, &#39;Sat Oct  3 14:23:59 2020&#39;,\n       &#39;Sat Oct  3 14:24:19 2020&#39;, &#39;Sat Oct  3 14:24:39 2020&#39;,\n       &#39;Sat Oct  3 14:24:59 2020&#39;, &#39;Sat Oct  3 14:25:19 2020&#39;,\n       &#39;Sat Oct  3 14:25:40 2020&#39;, &#39;Sat Oct  3 14:26:00 2020&#39;,\n       &#39;Sat Oct  3 14:26:20 2020&#39;, &#39;Sat Oct  3 14:26:40 2020&#39;,\n       &#39;Sat Oct  3 14:27:00 2020&#39;, &#39;Sat Oct  3 14:27:20 2020&#39;,\n       &#39;Sat Oct  3 14:27:40 2020&#39;, &#39;Sat Oct  3 14:28:00 2020&#39;,\n       &#39;Sat Oct  3 14:28:20 2020&#39;, &#39;Sat Oct  3 14:28:40 2020&#39;,\n       &#39;Sat Oct  3 14:29:00 2020&#39;, &#39;Sat Oct  3 14:29:20 2020&#39;,\n       &#39;Sat Oct  3 14:29:40 2020&#39;, &#39;Sat Oct  3 14:30:00 2020&#39;,\n       &#39;Sat Oct  3 14:30:20 2020&#39;, &#39;Sat Oct  3 14:30:41 2020&#39;,\n       &#39;Sat Oct  3 14:31:00 2020&#39;, &#39;Sat Oct  3 14:31:01 2020&#39;,\n       &#39;Sat Oct  3 14:31:21 2020&#39;, &#39;Sat Oct  3 14:31:41 2020&#39;,\n       &#39;Sat Oct  3 14:32:01 2020&#39;, &#39;Sat Oct  3 14:32:21 2020&#39;,\n       &#39;Sat Oct  3 14:32:41 2020&#39;, &#39;Sat Oct  3 14:33:01 2020&#39;,\n       &#39;Sat Oct  3 14:33:21 2020&#39;, &#39;Sat Oct  3 14:33:41 2020&#39;,\n       &#39;Sat Oct  3 14:34:01 2020&#39;, &#39;Sat Oct  3 14:34:21 2020&#39;,\n       &#39;Sat Oct  3 14:34:41 2020&#39;, &#39;Sat Oct  3 14:35:01 2020&#39;,\n       &#39;Sat Oct  3 14:35:21 2020&#39;, &#39;Sat Oct  3 14:35:41 2020&#39;,\n       &#39;Sat Oct  3 14:36:02 2020&#39;, &#39;Sat Oct  3 14:36:22 2020&#39;,\n       &#39;Sat Oct  3 14:36:42 2020&#39;, &#39;Sat Oct  3 14:37:02 2020&#39;,\n       &#39;Sat Oct  3 14:37:22 2020&#39;, &#39;Sat Oct  3 14:37:42 2020&#39;,\n       &#39;Sat Oct  3 14:38:02 2020&#39;, &#39;Sat Oct  3 14:38:22 2020&#39;,\n       &#39;Sat Oct  3 14:38:42 2020&#39;, &#39;Sat Oct  3 14:39:02 2020&#39;,\n       &#39;Sat Oct  3 14:39:22 2020&#39;, &#39;Sat Oct  3 14:39:42 2020&#39;,\n       &#39;Sat Oct  3 14:40:02 2020&#39;, &#39;Sat Oct  3 14:40:22 2020&#39;,\n       &#39;Sat Oct  3 14:40:43 2020&#39;, &#39;Sat Oct  3 14:41:03 2020&#39;,\n       &#39;Sat Oct  3 14:41:23 2020&#39;, &#39;Sat Oct  3 14:41:43 2020&#39;,\n       &#39;Sat Oct  3 14:42:03 2020&#39;, &#39;Sat Oct  3 14:42:23 2020&#39;,\n       &#39;Sat Oct  3 14:42:43 2020&#39;, &#39;Sat Oct  3 14:43:03 2020&#39;,\n       &#39;Sat Oct  3 14:43:23 2020&#39;, &#39;Sat Oct  3 14:43:43 2020&#39;,\n       &#39;Sat Oct  3 14:44:03 2020&#39;, &#39;Sat Oct  3 14:44:23 2020&#39;,\n       &#39;Sat Oct  3 14:44:43 2020&#39;, &#39;Sat Oct  3 14:45:03 2020&#39;,\n       &#39;Sat Oct  3 14:45:23 2020&#39;, &#39;Sat Oct  3 14:45:43 2020&#39;,\n       &#39;Sat Oct  3 14:46:03 2020&#39;, &#39;Sat Oct  3 14:46:24 2020&#39;,\n       &#39;Sat Oct  3 14:46:44 2020&#39;, &#39;Sat Oct  3 14:47:04 2020&#39;,\n       &#39;Sat Oct  3 14:47:24 2020&#39;, &#39;Sat Oct  3 14:47:44 2020&#39;,\n       &#39;Sat Oct  3 14:48:04 2020&#39;, &#39;Sat Oct  3 14:48:24 2020&#39;,\n       &#39;Sat Oct  3 14:48:44 2020&#39;, &#39;Sat Oct  3 14:49:04 2020&#39;,\n       &#39;Sat Oct  3 14:49:24 2020&#39;, &#39;Sat Oct  3 14:49:44 2020&#39;,\n       &#39;Sat Oct  3 14:50:04 2020&#39;, &#39;Sat Oct  3 14:50:24 2020&#39;,\n       &#39;Sat Oct  3 14:50:44 2020&#39;, &#39;Sat Oct  3 14:51:05 2020&#39;,\n       &#39;Sat Oct  3 14:51:25 2020&#39;, &#39;Sat Oct  3 14:51:45 2020&#39;,\n       &#39;Sat Oct  3 14:52:05 2020&#39;, &#39;Sat Oct  3 14:52:25 2020&#39;,\n       &#39;Sat Oct  3 14:52:45 2020&#39;, &#39;Sat Oct  3 14:53:05 2020&#39;,\n       &#39;Sat Oct  3 14:53:25 2020&#39;, &#39;Sat Oct  3 14:53:45 2020&#39;,\n       &#39;Sat Oct  3 14:54:05 2020&#39;, &#39;Sat Oct  3 14:54:25 2020&#39;,\n       &#39;Sat Oct  3 14:54:45 2020&#39;, &#39;Sat Oct  3 14:55:05 2020&#39;,\n       &#39;Sat Oct  3 14:55:25 2020&#39;, &#39;Sat Oct  3 14:55:45 2020&#39;,\n       &#39;Sat Oct  3 14:56:06 2020&#39;, &#39;Sat Oct  3 14:56:26 2020&#39;,\n       &#39;Sat Oct  3 14:56:46 2020&#39;, &#39;Sat Oct  3 14:57:06 2020&#39;,\n       &#39;Sat Oct  3 14:57:26 2020&#39;, &#39;Sat Oct  3 14:57:46 2020&#39;,\n       &#39;Sat Oct  3 14:58:06 2020&#39;, &#39;Sat Oct  3 14:58:26 2020&#39;,\n       &#39;Sat Oct  3 14:58:46 2020&#39;, &#39;Sat Oct  3 14:59:06 2020&#39;,\n       &#39;Sat Oct  3 14:59:26 2020&#39;, &#39;Sat Oct  3 14:59:46 2020&#39;,\n       &#39;Sat Oct  3 15:00:06 2020&#39;, &#39;Sat Oct  3 15:00:26 2020&#39;,\n       &#39;Sat Oct  3 15:00:46 2020&#39;, &#39;Sat Oct  3 15:01:06 2020&#39;,\n       &#39;Sat Oct  3 15:01:26 2020&#39;, &#39;Sat Oct  3 15:01:46 2020&#39;,\n       &#39;Sat Oct  3 15:02:07 2020&#39;, &#39;Sat Oct  3 15:02:27 2020&#39;,\n       &#39;Sat Oct  3 15:02:47 2020&#39;, &#39;Sat Oct  3 15:03:07 2020&#39;,\n       &#39;Sat Oct  3 15:03:27 2020&#39;, &#39;Sat Oct  3 15:03:47 2020&#39;,\n       &#39;Sat Oct  3 15:04:07 2020&#39;, &#39;Sat Oct  3 15:04:27 2020&#39;,\n       &#39;Sat Oct  3 15:04:47 2020&#39;, &#39;Sat Oct  3 15:05:07 2020&#39;,\n       &#39;Sat Oct  3 15:05:27 2020&#39;, &#39;Sat Oct  3 15:05:47 2020&#39;,\n       &#39;Sat Oct  3 15:06:07 2020&#39;, &#39;Sat Oct  3 15:06:27 2020&#39;,\n       &#39;Sat Oct  3 15:06:47 2020&#39;, &#39;Sat Oct  3 15:07:07 2020&#39;,\n       &#39;Sat Oct  3 15:07:28 2020&#39;, &#39;Sat Oct  3 15:07:48 2020&#39;,\n       &#39;Sat Oct  3 15:08:08 2020&#39;, &#39;Sat Oct  3 15:08:28 2020&#39;,\n       &#39;Sat Oct  3 15:08:48 2020&#39;, &#39;Sat Oct  3 15:09:08 2020&#39;,\n       &#39;Sat Oct  3 15:09:28 2020&#39;, &#39;Sat Oct  3 15:09:48 2020&#39;,\n       &#39;Sat Oct  3 15:10:08 2020&#39;, &#39;Sat Oct  3 15:10:28 2020&#39;,\n       &#39;Sat Oct  3 15:10:48 2020&#39;, &#39;Sat Oct  3 15:11:08 2020&#39;,\n       &#39;Sat Oct  3 15:11:28 2020&#39;, &#39;Sat Oct  3 15:11:48 2020&#39;,\n       &#39;Sat Oct  3 15:12:09 2020&#39;, &#39;Sat Oct  3 15:12:29 2020&#39;,\n       &#39;Sat Oct  3 15:12:49 2020&#39;, &#39;Sat Oct  3 15:13:09 2020&#39;,\n       &#39;Sat Oct  3 15:13:29 2020&#39;, &#39;Sat Oct  3 15:13:49 2020&#39;,\n       &#39;Sat Oct  3 15:14:09 2020&#39;, &#39;Sat Oct  3 15:14:29 2020&#39;,\n       &#39;Sat Oct  3 15:14:49 2020&#39;, &#39;Sat Oct  3 15:15:09 2020&#39;,\n       &#39;Sat Oct  3 15:15:29 2020&#39;, &#39;Sat Oct  3 15:15:49 2020&#39;,\n       &#39;Sat Oct  3 15:16:09 2020&#39;, &#39;Sat Oct  3 15:16:29 2020&#39;,\n       &#39;Sat Oct  3 15:16:50 2020&#39;, &#39;Sat Oct  3 15:17:10 2020&#39;,\n       &#39;Sat Oct  3 15:17:30 2020&#39;, &#39;Sat Oct  3 15:17:50 2020&#39;,\n       &#39;Sat Oct  3 15:18:10 2020&#39;, &#39;Sat Oct  3 15:18:30 2020&#39;,\n       &#39;Sat Oct  3 15:18:50 2020&#39;, &#39;Sat Oct  3 15:19:10 2020&#39;,\n       &#39;Sat Oct  3 15:19:30 2020&#39;, &#39;Sat Oct  3 15:19:50 2020&#39;,\n       &#39;Sat Oct  3 15:20:10 2020&#39;, &#39;Sat Oct  3 15:20:30 2020&#39;,\n       &#39;Sat Oct  3 15:20:50 2020&#39;, &#39;Sat Oct  3 15:21:10 2020&#39;,\n       &#39;Sat Oct  3 15:21:31 2020&#39;, &#39;Sat Oct  3 15:21:51 2020&#39;,\n       &#39;Sat Oct  3 15:22:11 2020&#39;, &#39;Sat Oct  3 15:22:31 2020&#39;,\n       &#39;Sat Oct  3 15:22:51 2020&#39;, &#39;Sat Oct  3 15:23:11 2020&#39;,\n       &#39;Sat Oct  3 15:23:31 2020&#39;, &#39;Sat Oct  3 15:23:51 2020&#39;,\n       &#39;Sat Oct  3 15:24:11 2020&#39;, &#39;Sat Oct  3 15:24:31 2020&#39;,\n       &#39;Sat Oct  3 15:24:51 2020&#39;, &#39;Sat Oct  3 15:25:11 2020&#39;,\n       &#39;Sat Oct  3 15:25:31 2020&#39;, &#39;Sat Oct  3 15:25:51 2020&#39;,\n       &#39;Sat Oct  3 15:26:11 2020&#39;, &#39;Sat Oct  3 15:26:31 2020&#39;,\n       &#39;Sat Oct  3 15:26:52 2020&#39;, &#39;Sat Oct  3 15:27:12 2020&#39;,\n       &#39;Sat Oct  3 15:27:32 2020&#39;, &#39;Sat Oct  3 15:27:52 2020&#39;,\n       &#39;Sat Oct  3 15:28:12 2020&#39;, &#39;Sat Oct  3 15:28:32 2020&#39;,\n       &#39;Sat Oct  3 15:28:52 2020&#39;, &#39;Sat Oct  3 15:29:12 2020&#39;,\n       &#39;Sat Oct  3 15:29:32 2020&#39;, &#39;Sat Oct  3 15:29:52 2020&#39;,\n       &#39;Sat Oct  3 15:30:12 2020&#39;, &#39;Sat Oct  3 15:30:32 2020&#39;,\n       &#39;Sat Oct  3 15:30:52 2020&#39;, &#39;Sat Oct  3 15:31:12 2020&#39;,\n       &#39;Sat Oct  3 15:31:32 2020&#39;, &#39;Sat Oct  3 15:31:52 2020&#39;,\n       &#39;Sat Oct  3 15:32:12 2020&#39;, &#39;Sat Oct  3 15:32:32 2020&#39;],\n      dtype=object)"
     },
     "metadata": {},
     "execution_count": 6
    }
   ],
   "source": [
    "print(real_data_df[0].describe())\n",
    "real_data_df[0].unique()\n",
    "# strings representing date, primary key of each table in the smarthouse project database"
   ]
  },
  {
   "cell_type": "code",
   "execution_count": 7,
   "metadata": {
    "tags": []
   },
   "outputs": [
    {
     "output_type": "stream",
     "name": "stdout",
     "text": "count    272.000000\nmean       0.577390\nstd        0.060333\nmin        0.400000\n25%        0.540000\n50%        0.580000\n75%        0.600000\nmax        0.790000\nName: 1, dtype: float64\n"
    },
    {
     "output_type": "execute_result",
     "data": {
      "text/plain": "array([0.59, 0.6 , 0.56, 0.63, 0.61, 0.57, 0.52, 0.58, 0.5 , 0.65, 0.62,\n       0.51, 0.75, 0.4 , 0.53, 0.55, 0.54, 0.78, 0.74, 0.76, 0.68, 0.79,\n       0.64, 0.71, 0.48, 0.73, 0.72, 0.77, 0.44, 0.42, 0.67, 0.49, 0.47,\n       0.45])"
     },
     "metadata": {},
     "execution_count": 7
    }
   ],
   "source": [
    "print(real_data_df[1].describe())\n",
    "real_data_df[1].unique()\n",
    "# values between 0.0 and 0.65, it is probably light sensor"
   ]
  },
  {
   "cell_type": "code",
   "execution_count": 8,
   "metadata": {
    "tags": []
   },
   "outputs": [
    {
     "output_type": "stream",
     "name": "stdout",
     "text": "count     272.0\nunique      2.0\ntop        22.4\nfreq      271.0\nName: 2, dtype: float64\n"
    },
    {
     "output_type": "execute_result",
     "data": {
      "text/plain": "array([22.4, &#39;nan&#39;], dtype=object)"
     },
     "metadata": {},
     "execution_count": 8
    }
   ],
   "source": [
    "print(real_data_df[2].describe())\n",
    "real_data_df[2].unique()\n",
    "# real values between 0 and 22.1, also some 'nan' included, probably it is temperature sensor"
   ]
  },
  {
   "cell_type": "code",
   "execution_count": 9,
   "metadata": {
    "tags": []
   },
   "outputs": [
    {
     "output_type": "stream",
     "name": "stdout",
     "text": "count    272.0\nmean       1.0\nstd        0.0\nmin        1.0\n25%        1.0\n50%        1.0\n75%        1.0\nmax        1.0\nName: 3, dtype: float64\n"
    },
    {
     "output_type": "execute_result",
     "data": {
      "text/plain": "array([1], dtype=int64)"
     },
     "metadata": {},
     "execution_count": 9
    }
   ],
   "source": [
    "print(real_data_df[3].describe())\n",
    "real_data_df[3].unique()\n",
    "# only zeros and ones, it is controllable divice"
   ]
  },
  {
   "cell_type": "code",
   "execution_count": 10,
   "metadata": {
    "tags": []
   },
   "outputs": [
    {
     "output_type": "stream",
     "name": "stdout",
     "text": "count    272.0\nmean       1.0\nstd        0.0\nmin        1.0\n25%        1.0\n50%        1.0\n75%        1.0\nmax        1.0\nName: 4, dtype: float64\n"
    },
    {
     "output_type": "execute_result",
     "data": {
      "text/plain": "array([1], dtype=int64)"
     },
     "metadata": {},
     "execution_count": 10
    }
   ],
   "source": [
    "print(real_data_df[4].describe())\n",
    "real_data_df[4].unique()\n",
    "# only zeros and ones, it is controllable divice"
   ]
  },
  {
   "cell_type": "code",
   "execution_count": 11,
   "metadata": {
    "tags": []
   },
   "outputs": [
    {
     "output_type": "stream",
     "name": "stdout",
     "text": "count    272.0\nmean       0.0\nstd        0.0\nmin        0.0\n25%        0.0\n50%        0.0\n75%        0.0\nmax        0.0\nName: 5, dtype: float64\n"
    },
    {
     "output_type": "execute_result",
     "data": {
      "text/plain": "array([0], dtype=int64)"
     },
     "metadata": {},
     "execution_count": 11
    }
   ],
   "source": [
    "print(real_data_df[5].describe())\n",
    "real_data_df[5].unique()\n",
    "# only zeros and ones, it is controllable divice"
   ]
  },
  {
   "cell_type": "code",
   "execution_count": 12,
   "metadata": {},
   "outputs": [],
   "source": [
    "real_data_df.columns = ['date', 'sensor_1', 'sensor_2', 'device_1', 'device_2', 'device_3']\n",
    "real_data_df.index = real_data_df['date']\n",
    "real_data_df = real_data_df.drop(columns = ['date'])"
   ]
  },
  {
   "cell_type": "code",
   "execution_count": 13,
   "metadata": {},
   "outputs": [
    {
     "output_type": "execute_result",
     "data": {
      "text/plain": "                          sensor_1 sensor_2  device_1  device_2  device_3\ndate                                                                     \nSat Oct  3 14:02:15 2020      0.59     22.4         1         1         0\nSat Oct  3 14:02:35 2020      0.60     22.4         1         1         0\nSat Oct  3 14:02:55 2020      0.60     22.4         1         1         0\nSat Oct  3 14:03:15 2020      0.56     22.4         1         1         0\nSat Oct  3 14:03:35 2020      0.63     22.4         1         1         0\n...                            ...      ...       ...       ...       ...\nSat Oct  3 15:31:12 2020      0.58     22.4         1         1         0\nSat Oct  3 15:31:32 2020      0.55     22.4         1         1         0\nSat Oct  3 15:31:52 2020      0.54     22.4         1         1         0\nSat Oct  3 15:32:12 2020      0.58     22.4         1         1         0\nSat Oct  3 15:32:32 2020      0.54     22.4         1         1         0\n\n[272 rows x 5 columns]",
      "text/html": "<div>\n<style scoped>\n    .dataframe tbody tr th:only-of-type {\n        vertical-align: middle;\n    }\n\n    .dataframe tbody tr th {\n        vertical-align: top;\n    }\n\n    .dataframe thead th {\n        text-align: right;\n    }\n</style>\n<table border=\"1\" class=\"dataframe\">\n  <thead>\n    <tr style=\"text-align: right;\">\n      <th></th>\n      <th>sensor_1</th>\n      <th>sensor_2</th>\n      <th>device_1</th>\n      <th>device_2</th>\n      <th>device_3</th>\n    </tr>\n    <tr>\n      <th>date</th>\n      <th></th>\n      <th></th>\n      <th></th>\n      <th></th>\n      <th></th>\n    </tr>\n  </thead>\n  <tbody>\n    <tr>\n      <th>Sat Oct  3 14:02:15 2020</th>\n      <td>0.59</td>\n      <td>22.4</td>\n      <td>1</td>\n      <td>1</td>\n      <td>0</td>\n    </tr>\n    <tr>\n      <th>Sat Oct  3 14:02:35 2020</th>\n      <td>0.60</td>\n      <td>22.4</td>\n      <td>1</td>\n      <td>1</td>\n      <td>0</td>\n    </tr>\n    <tr>\n      <th>Sat Oct  3 14:02:55 2020</th>\n      <td>0.60</td>\n      <td>22.4</td>\n      <td>1</td>\n      <td>1</td>\n      <td>0</td>\n    </tr>\n    <tr>\n      <th>Sat Oct  3 14:03:15 2020</th>\n      <td>0.56</td>\n      <td>22.4</td>\n      <td>1</td>\n      <td>1</td>\n      <td>0</td>\n    </tr>\n    <tr>\n      <th>Sat Oct  3 14:03:35 2020</th>\n      <td>0.63</td>\n      <td>22.4</td>\n      <td>1</td>\n      <td>1</td>\n      <td>0</td>\n    </tr>\n    <tr>\n      <th>...</th>\n      <td>...</td>\n      <td>...</td>\n      <td>...</td>\n      <td>...</td>\n      <td>...</td>\n    </tr>\n    <tr>\n      <th>Sat Oct  3 15:31:12 2020</th>\n      <td>0.58</td>\n      <td>22.4</td>\n      <td>1</td>\n      <td>1</td>\n      <td>0</td>\n    </tr>\n    <tr>\n      <th>Sat Oct  3 15:31:32 2020</th>\n      <td>0.55</td>\n      <td>22.4</td>\n      <td>1</td>\n      <td>1</td>\n      <td>0</td>\n    </tr>\n    <tr>\n      <th>Sat Oct  3 15:31:52 2020</th>\n      <td>0.54</td>\n      <td>22.4</td>\n      <td>1</td>\n      <td>1</td>\n      <td>0</td>\n    </tr>\n    <tr>\n      <th>Sat Oct  3 15:32:12 2020</th>\n      <td>0.58</td>\n      <td>22.4</td>\n      <td>1</td>\n      <td>1</td>\n      <td>0</td>\n    </tr>\n    <tr>\n      <th>Sat Oct  3 15:32:32 2020</th>\n      <td>0.54</td>\n      <td>22.4</td>\n      <td>1</td>\n      <td>1</td>\n      <td>0</td>\n    </tr>\n  </tbody>\n</table>\n<p>272 rows × 5 columns</p>\n</div>"
     },
     "metadata": {},
     "execution_count": 13
    }
   ],
   "source": [
    "real_data_df"
   ]
  },
  {
   "cell_type": "code",
   "execution_count": 14,
   "metadata": {},
   "outputs": [],
   "source": [
    "# Next step is to determine best rule indiction algorithm. Our goal is to find a rule \n",
    "# of behaviours between devices and sensors, so that our algorithm can predict properly when it should\n",
    "# activate each device. 2 algorithms I am going to compare are Decision Trees, Random Forest and Extreeme Gradient Boosted Trees."
   ]
  },
  {
   "cell_type": "code",
   "execution_count": 16,
   "metadata": {},
   "outputs": [],
   "source": [
    "from sklearn.tree import DecisionTreeClassifier\n",
    "from sklearn.ensemble import RandomForestClassifier\n",
    "from xgboost import XGBClassifier\n",
    "from sklearn import metrics\n",
    "\n",
    "from copy import deepcopy\n",
    "import itertools"
   ]
  },
  {
   "cell_type": "code",
   "execution_count": 17,
   "metadata": {},
   "outputs": [],
   "source": [
    "from sklearn.metrics import fbeta_score\n",
    "\n",
    "def f1_score(y_true, y_pred, threshold = 0.5):\n",
    "    y_pred_class = y_pred >= threshold\n",
    "    y_true = y_true == 1\n",
    "    return fbeta_score(y_true, y_pred_class, beta = 1)"
   ]
  },
  {
   "cell_type": "code",
   "execution_count": 115,
   "metadata": {},
   "outputs": [],
   "source": [
    "class AutoTuningHyperparameters(object):\n",
    "    @staticmethod\n",
    "    def standarize(X, standarization_rule = None):\n",
    "        data = deepcopy(X.replace(['nan'], 0))\n",
    "        for column_name in data.columns:\n",
    "            if 'sensor' in column_name:\n",
    "                data[column_name] = (data[column_name] - data[column_name].mean())/data[column_name].std()\n",
    "        return data\n",
    "\n",
    "    @staticmethod\n",
    "    def generate_all_possible_params(params):\n",
    "        params_unpacked = {key: list(np.arange(params[key][0], params[key][1] + params[key][2], params[key][2])) for key in                     params.keys()}\n",
    "        keys, values = zip(*params_unpacked.items())\n",
    "        possible_params = [dict(zip(keys, v)) for v in itertools.product(*values)]\n",
    "        return possible_params\n",
    "\n",
    "    def __init__(self, model, X, y, params, cost):\n",
    "        self.model = model \n",
    "        X = self.standarize(X) \n",
    "        self.X_train = X[:int(0.7*len(X))]\n",
    "        self.X_test = X[int(0.7*len(X)):]\n",
    "        self.y_train = y[:int(0.7*len(y))]\n",
    "        self.y_test = y[int(0.7*len(y)):]\n",
    "        self.params = params\n",
    "        self.cost = cost\n",
    "        self.best_model = None\n",
    "    \n",
    "    def fit_model(self, params):\n",
    "        model = self.model(**params)\n",
    "        model.fit(self.X_train, self.y_train)\n",
    "        predictions = model.predict(self.X_test)\n",
    "        return model, self.cost(self.y_test, predictions)\n",
    "    \n",
    "    def grid_search(self, params = None, verbose = 1):\n",
    "        if params:\n",
    "            params = self.generate_all_possible_params(params)\n",
    "        else:\n",
    "            params = self.generate_all_possible_params(self.params)\n",
    "        models = []\n",
    "        for index, parameters in enumerate(params):\n",
    "            model, ratio = self.fit_model(parameters)\n",
    "            models.append([parameters, ratio])\n",
    "\n",
    "            if verbose >= 1:\n",
    "                print('{:.4f}'.format((index+1)/len(params)), end = '\\r')\n",
    "\n",
    "        sorted_models = [[x[0], x[1]] for x in sorted(models, key = lambda x: x[1])]\n",
    "        self.best_model = sorted_models[-1]\n",
    "        return self.best_model[0], self.best_model[1]\n",
    "\n",
    "    def random_search(self, verbose = 1, group_size = 5, iterations = 20, params = None):\n",
    "        if params:\n",
    "            params = self.generate_all_possible_params(params)\n",
    "        else:\n",
    "            params = self.generate_all_possible_params(self.params)\n",
    "\n",
    "        models = []\n",
    "        for iteration in range(iterations):\n",
    "            random_group = np.random.choice(params, group_size)\n",
    "            for random_params in random_group:\n",
    "                model, ratio = self.fit_model(random_params)\n",
    "                models.append([random_params, ratio])\n",
    "\n",
    "            if verbose >= 1:\n",
    "                print('{:.4f}'.format((iteration+1)/iterations), end = '\\r')\n",
    "\n",
    "        sorted_models = [[x[0], x[1]] for x in sorted(models, key = lambda x: x[1])]\n",
    "        self.best_model = sorted_models[-1]\n",
    "        return self.best_model[0], self.best_model[1]\n",
    "\n",
    "    def genetic_search(self):\n",
    "        pass \n",
    "\n",
    "    def auto_tune_pipeline(self, pipeline = ['random', 'grid'], narrow_to = 0.2, params = None):\n",
    "        if params:\n",
    "            params = params\n",
    "        else:\n",
    "            params = self.params\n",
    "        \n",
    "        for search in pipeline:\n",
    "            if search == 'random':\n",
    "                best_params, score = self.random_search(params = params, group_size = 10, iterations = 50)\n",
    "            elif search == 'grid':\n",
    "                best_params, score = self.random_search(params = params)\n",
    "\n",
    "            for key in best_params.keys():\n",
    "                key_type = type(params[key][2])\n",
    "                new_min = key_type(best_params[key] - narrow_to * best_params[key])\n",
    "                new_max = key_type(best_params[key] + narrow_to * best_params[key])\n",
    "                if new_min > params[key][0]:\n",
    "                    params[key][0] = new_min\n",
    "                if new_max < params[key][1]:\n",
    "                    params[key][1] = new_max\n",
    "\n",
    "            print('performed {} serach with max score of {} and best parameters {}'.format(search, score, best_params))\n",
    "\n",
    "        return best_params, score\n",
    "\n",
    "\n",
    "    "
   ]
  },
  {
   "cell_type": "code",
   "execution_count": 116,
   "metadata": {},
   "outputs": [],
   "source": [
    "XGB_PARAMS = {'n_estimators ': [20, 300, 20], \n",
    "                'learning_rate': [0.01, 0.1, 0.01], \n",
    "                'max_depth': [3, 300, 30], \n",
    "                'subsample': [0.8, 1, 0.05], \n",
    "                'colsample_bytree': [0.3, 0.8, 0.05],\n",
    "                'gamma': [0, 5, 1],\n",
    "                'verbosity': [0, 0, 1]}\n",
    "\n",
    "X = deepcopy(real_data_df.drop(columns = ['device_1']))\n",
    "y = deepcopy(real_data_df['device_1'])\n"
   ]
  },
  {
   "cell_type": "code",
   "execution_count": 117,
   "metadata": {},
   "outputs": [],
   "source": [
    "# params = {'n_estimators ': [1, 50, 1], \n",
    "#                 'learning_rate': [5, 15, 5], \n",
    "#                 'max_depth': [0.01, 0.1, 0.01]}\n",
    "# params_unpacked = {key: list(np.arange(params[key][0], params[key][1] + params[key][2], params[key][2])) for key in params.keys()}\n",
    "# params_unpacked\n"
   ]
  },
  {
   "cell_type": "code",
   "execution_count": 118,
   "metadata": {
    "tags": []
   },
   "outputs": [],
   "source": [
    "automl = AutoTuningHyperparameters(XGBClassifier, X, y, XGB_PARAMS, f1_score)"
   ]
  },
  {
   "cell_type": "code",
   "execution_count": 119,
   "metadata": {},
   "outputs": [],
   "source": [
    "# automl pipeline"
   ]
  },
  {
   "cell_type": "code",
   "execution_count": 120,
   "metadata": {
    "tags": []
   },
   "outputs": [
    {
     "output_type": "stream",
     "name": "stdout",
     "text": "performed random serach with max score of 1.0 and best parameters {&#39;n_estimators &#39;: 220, &#39;learning_rate&#39;: 0.06999999999999999, &#39;max_depth&#39;: 273, &#39;subsample&#39;: 0.9500000000000002, &#39;colsample_bytree&#39;: 0.7, &#39;gamma&#39;: 4, &#39;verbosity&#39;: 0}\nperformed grid serach with max score of 1.0 and best parameters {&#39;n_estimators &#39;: 236, &#39;learning_rate&#39;: 0.08599999999999998, &#39;max_depth&#39;: 278, &#39;subsample&#39;: 1.0000000000000002, &#39;colsample_bytree&#39;: 0.66, &#39;gamma&#39;: 3, &#39;verbosity&#39;: 0}\n"
    }
   ],
   "source": [
    "best_params, score = automl.auto_tune_pipeline()\n"
   ]
  },
  {
   "cell_type": "code",
   "execution_count": 121,
   "metadata": {},
   "outputs": [
    {
     "output_type": "execute_result",
     "data": {
      "text/plain": "{&#39;n_estimators &#39;: 236,\n &#39;learning_rate&#39;: 0.08599999999999998,\n &#39;max_depth&#39;: 278,\n &#39;subsample&#39;: 1.0000000000000002,\n &#39;colsample_bytree&#39;: 0.66,\n &#39;gamma&#39;: 3,\n &#39;verbosity&#39;: 0}"
     },
     "metadata": {},
     "execution_count": 121
    }
   ],
   "source": [
    "best_params\n"
   ]
  },
  {
   "cell_type": "code",
   "execution_count": 95,
   "metadata": {},
   "outputs": [
    {
     "output_type": "execute_result",
     "data": {
      "text/plain": "{&#39;n_estimators &#39;: 280,\n &#39;learning_rate&#39;: 0.03,\n &#39;max_depth&#39;: 183,\n &#39;subsample&#39;: 1.0000000000000002,\n &#39;colsample_bytree&#39;: 0.7999999999999998,\n &#39;gamma&#39;: 0,\n &#39;verbosity&#39;: 0}"
     },
     "metadata": {},
     "execution_count": 95
    }
   ],
   "source": [
    "random_search_best_params"
   ]
  },
  {
   "cell_type": "code",
   "execution_count": null,
   "metadata": {},
   "outputs": [],
   "source": []
  }
 ]
}