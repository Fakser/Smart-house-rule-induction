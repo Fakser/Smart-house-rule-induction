{
 "metadata": {
  "language_info": {
   "codemirror_mode": {
    "name": "ipython",
    "version": 3
   },
   "file_extension": ".py",
   "mimetype": "text/x-python",
   "name": "python",
   "nbconvert_exporter": "python",
   "pygments_lexer": "ipython3",
   "version": "3.8.3-final"
  },
  "orig_nbformat": 2,
  "kernelspec": {
   "name": "Python 3.8.3 64-bit ('base': conda)",
   "display_name": "Python 3.8.3 64-bit ('base': conda)",
   "metadata": {
    "interpreter": {
     "hash": "b3ba2566441a7c06988d0923437866b63cedc61552a5af99d1f4fb67d367b25f"
    }
   }
  }
 },
 "nbformat": 4,
 "nbformat_minor": 2,
 "cells": [
  {
   "cell_type": "code",
   "execution_count": 1,
   "metadata": {},
   "outputs": [],
   "source": [
    "import requests\n",
    "import pandas as pd \n",
    "import numpy as np"
   ]
  },
  {
   "cell_type": "code",
   "execution_count": 2,
   "metadata": {},
   "outputs": [
    {
     "output_type": "execute_result",
     "data": {
      "text/plain": "dict_keys([&#39;test2&#39;, &#39;Krzysiujestsuper&#39;, &#39;test3&#39;, &#39;test4&#39;, &#39;test5&#39;, &#39;test7&#39;, &#39;room_Jan&#39;, &#39;test8&#39;])"
     },
     "metadata": {},
     "execution_count": 2
    }
   ],
   "source": [
    "data = requests.get('https://d946a72959ed.ngrok.io/data').json()\n",
    "data.keys()"
   ]
  },
  {
   "cell_type": "code",
   "execution_count": 3,
   "metadata": {},
   "outputs": [],
   "source": [
    "real_data_df = pd.DataFrame(data['room_Jan'])"
   ]
  },
  {
   "cell_type": "code",
   "execution_count": 4,
   "metadata": {},
   "outputs": [],
   "source": [
    "# During the analysis I didn't know which column represents sensors, and which represents devices. \n",
    "# That is why I have performed some data analysis to determine it. Also all sensors values have been \n",
    "# standarized, so that machine learning algorithms can converge easly to global minimum of \n",
    "# cost function. "
   ]
  },
  {
   "cell_type": "code",
   "execution_count": 5,
   "metadata": {
    "tags": []
   },
   "outputs": [
    {
     "output_type": "stream",
     "name": "stdout",
     "text": "count                        18977\nunique                       18977\ntop       Thu Oct  1 06:56:12 2020\nfreq                             1\nName: 0, dtype: object\n"
    },
    {
     "output_type": "execute_result",
     "data": {
      "text/plain": "array([&#39;Sun Sep 27 23:24:05 2020&#39;, &#39;Sun Sep 27 23:24:35 2020&#39;,\n       &#39;Sun Sep 27 23:24:55 2020&#39;, ..., &#39;Fri Oct  2 09:26:59 2020&#39;,\n       &#39;Fri Oct  2 09:27:19 2020&#39;, &#39;Fri Oct  2 09:27:39 2020&#39;],\n      dtype=object)"
     },
     "metadata": {},
     "execution_count": 5
    }
   ],
   "source": [
    "print(real_data_df[0].describe())\n",
    "real_data_df[0].unique()\n",
    "# strings representing date, primary key of each table in the smarthouse project database"
   ]
  },
  {
   "cell_type": "code",
   "execution_count": 6,
   "metadata": {
    "tags": []
   },
   "outputs": [
    {
     "output_type": "stream",
     "name": "stdout",
     "text": "count    18977.000000\nmean         0.184900\nstd          0.205119\nmin          0.000000\n25%          0.000000\n50%          0.110000\n75%          0.380000\nmax          0.650000\nName: 1, dtype: float64\n"
    },
    {
     "output_type": "execute_result",
     "data": {
      "text/plain": "array([0.49, 0.23, 0.24, 0.52, 0.51, 0.48, 0.5 , 0.46, 0.45, 0.43, 0.4 ,\n       0.  , 0.25, 0.26, 0.27, 0.28, 0.29, 0.3 , 0.31, 0.32, 0.33, 0.34,\n       0.35, 0.36, 0.37, 0.38, 0.39, 0.41, 0.42, 0.44, 0.47, 0.53, 0.54,\n       0.55, 0.56, 0.57, 0.58, 0.59, 0.6 , 0.61, 0.62, 0.63, 0.64, 0.65,\n       0.22, 0.21, 0.2 , 0.19, 0.18, 0.17, 0.16, 0.15, 0.14, 0.13, 0.12,\n       0.11, 0.1 , 0.09, 0.08, 0.07, 0.06, 0.05, 0.04, 0.03, 0.02, 0.01])"
     },
     "metadata": {},
     "execution_count": 6
    }
   ],
   "source": [
    "print(real_data_df[1].describe())\n",
    "real_data_df[1].unique()\n",
    "# values between 0.0 and 0.65, it is probably light sensor"
   ]
  },
  {
   "cell_type": "code",
   "execution_count": 7,
   "metadata": {
    "tags": []
   },
   "outputs": [
    {
     "output_type": "stream",
     "name": "stdout",
     "text": "count     18977.0\nunique       64.0\ntop          22.1\nfreq       2189.0\nName: 2, dtype: float64\n"
    },
    {
     "output_type": "execute_result",
     "data": {
      "text/plain": "array([21, 20.9, 21.1, 21.2, 21.3, 21.4, 21.5, 21.6, 21.7, &#39;nan&#39;, 20.8,\n       20.5, 20.2, 19.8, 19.6, 19.2, 19, 18.7, 18.5, 18.3, 18.1, 18, 17.8,\n       17.7, 17.6, 17.5, 17.4, 17.3, 17.2, 17.1, 17, 16.9, 16.8, 16.7,\n       16.6, 16.5, 16.4, 16.3, 16.2, 16.1, 17.9, 18.2, 18.4, 18.6, 18.8,\n       18.9, 19.1, 19.3, 19.4, 19.5, 19.7, 19.9, 20, 20.1, 20.3, 20.4,\n       20.6, 20.7, 21.8, 21.9, 22, 22.1, 22.2, 22.3], dtype=object)"
     },
     "metadata": {},
     "execution_count": 7
    }
   ],
   "source": [
    "print(real_data_df[2].describe())\n",
    "real_data_df[2].unique()\n",
    "# real values between 0 and 22.1, also some 'nan' included, probably it is temperature sensor"
   ]
  },
  {
   "cell_type": "code",
   "execution_count": 8,
   "metadata": {
    "tags": []
   },
   "outputs": [
    {
     "output_type": "stream",
     "name": "stdout",
     "text": "count    18977.000000\nmean         0.087738\nstd          0.282921\nmin          0.000000\n25%          0.000000\n50%          0.000000\n75%          0.000000\nmax          1.000000\nName: 3, dtype: float64\n"
    },
    {
     "output_type": "execute_result",
     "data": {
      "text/plain": "array([0, 1], dtype=int64)"
     },
     "metadata": {},
     "execution_count": 8
    }
   ],
   "source": [
    "print(real_data_df[3].describe())\n",
    "real_data_df[3].unique()\n",
    "# only zeros and ones, it is controllable divice"
   ]
  },
  {
   "cell_type": "code",
   "execution_count": 9,
   "metadata": {
    "tags": []
   },
   "outputs": [
    {
     "output_type": "stream",
     "name": "stdout",
     "text": "count    18977.000000\nmean         0.519471\nstd          0.499634\nmin          0.000000\n25%          0.000000\n50%          1.000000\n75%          1.000000\nmax          1.000000\nName: 4, dtype: float64\n"
    },
    {
     "output_type": "execute_result",
     "data": {
      "text/plain": "array([0, 1], dtype=int64)"
     },
     "metadata": {},
     "execution_count": 9
    }
   ],
   "source": [
    "print(real_data_df[4].describe())\n",
    "real_data_df[4].unique()\n",
    "# only zeros and ones, it is controllable divice"
   ]
  },
  {
   "cell_type": "code",
   "execution_count": 10,
   "metadata": {
    "tags": []
   },
   "outputs": [
    {
     "output_type": "stream",
     "name": "stdout",
     "text": "count    18977.000000\nmean         0.106497\nstd          0.308481\nmin          0.000000\n25%          0.000000\n50%          0.000000\n75%          0.000000\nmax          1.000000\nName: 5, dtype: float64\n"
    },
    {
     "output_type": "execute_result",
     "data": {
      "text/plain": "array([1, 0], dtype=int64)"
     },
     "metadata": {},
     "execution_count": 10
    }
   ],
   "source": [
    "print(real_data_df[5].describe())\n",
    "real_data_df[5].unique()\n",
    "# only zeros and ones, it is controllable divice"
   ]
  },
  {
   "cell_type": "code",
   "execution_count": 11,
   "metadata": {},
   "outputs": [],
   "source": [
    "real_data_df.columns = ['date', 'sensor_1', 'sensor_2', 'device_1', 'device_2', 'device_3']\n",
    "real_data_df.index = real_data_df['date']\n",
    "real_data_df = real_data_df.drop(columns = ['date'])"
   ]
  },
  {
   "cell_type": "code",
   "execution_count": 12,
   "metadata": {},
   "outputs": [
    {
     "output_type": "execute_result",
     "data": {
      "text/plain": "                          sensor_1 sensor_2  device_1  device_2  device_3\ndate                                                                     \nSun Sep 27 23:24:05 2020      0.49       21         0         0         1\nSun Sep 27 23:24:35 2020      0.23       21         0         0         1\nSun Sep 27 23:24:55 2020      0.23       21         0         0         1\nSun Sep 27 23:25:15 2020      0.24       21         0         0         1\nSun Sep 27 23:25:35 2020      0.23       21         0         0         1\n...                            ...      ...       ...       ...       ...\nFri Oct  2 09:26:19 2020      0.31     21.8         0         1         0\nFri Oct  2 09:26:39 2020      0.31     21.8         0         1         0\nFri Oct  2 09:26:59 2020      0.32     21.8         0         1         0\nFri Oct  2 09:27:19 2020      0.33     21.8         0         1         0\nFri Oct  2 09:27:39 2020      0.33     21.8         0         1         0\n\n[18977 rows x 5 columns]",
      "text/html": "<div>\n<style scoped>\n    .dataframe tbody tr th:only-of-type {\n        vertical-align: middle;\n    }\n\n    .dataframe tbody tr th {\n        vertical-align: top;\n    }\n\n    .dataframe thead th {\n        text-align: right;\n    }\n</style>\n<table border=\"1\" class=\"dataframe\">\n  <thead>\n    <tr style=\"text-align: right;\">\n      <th></th>\n      <th>sensor_1</th>\n      <th>sensor_2</th>\n      <th>device_1</th>\n      <th>device_2</th>\n      <th>device_3</th>\n    </tr>\n    <tr>\n      <th>date</th>\n      <th></th>\n      <th></th>\n      <th></th>\n      <th></th>\n      <th></th>\n    </tr>\n  </thead>\n  <tbody>\n    <tr>\n      <th>Sun Sep 27 23:24:05 2020</th>\n      <td>0.49</td>\n      <td>21</td>\n      <td>0</td>\n      <td>0</td>\n      <td>1</td>\n    </tr>\n    <tr>\n      <th>Sun Sep 27 23:24:35 2020</th>\n      <td>0.23</td>\n      <td>21</td>\n      <td>0</td>\n      <td>0</td>\n      <td>1</td>\n    </tr>\n    <tr>\n      <th>Sun Sep 27 23:24:55 2020</th>\n      <td>0.23</td>\n      <td>21</td>\n      <td>0</td>\n      <td>0</td>\n      <td>1</td>\n    </tr>\n    <tr>\n      <th>Sun Sep 27 23:25:15 2020</th>\n      <td>0.24</td>\n      <td>21</td>\n      <td>0</td>\n      <td>0</td>\n      <td>1</td>\n    </tr>\n    <tr>\n      <th>Sun Sep 27 23:25:35 2020</th>\n      <td>0.23</td>\n      <td>21</td>\n      <td>0</td>\n      <td>0</td>\n      <td>1</td>\n    </tr>\n    <tr>\n      <th>...</th>\n      <td>...</td>\n      <td>...</td>\n      <td>...</td>\n      <td>...</td>\n      <td>...</td>\n    </tr>\n    <tr>\n      <th>Fri Oct  2 09:26:19 2020</th>\n      <td>0.31</td>\n      <td>21.8</td>\n      <td>0</td>\n      <td>1</td>\n      <td>0</td>\n    </tr>\n    <tr>\n      <th>Fri Oct  2 09:26:39 2020</th>\n      <td>0.31</td>\n      <td>21.8</td>\n      <td>0</td>\n      <td>1</td>\n      <td>0</td>\n    </tr>\n    <tr>\n      <th>Fri Oct  2 09:26:59 2020</th>\n      <td>0.32</td>\n      <td>21.8</td>\n      <td>0</td>\n      <td>1</td>\n      <td>0</td>\n    </tr>\n    <tr>\n      <th>Fri Oct  2 09:27:19 2020</th>\n      <td>0.33</td>\n      <td>21.8</td>\n      <td>0</td>\n      <td>1</td>\n      <td>0</td>\n    </tr>\n    <tr>\n      <th>Fri Oct  2 09:27:39 2020</th>\n      <td>0.33</td>\n      <td>21.8</td>\n      <td>0</td>\n      <td>1</td>\n      <td>0</td>\n    </tr>\n  </tbody>\n</table>\n<p>18977 rows × 5 columns</p>\n</div>"
     },
     "metadata": {},
     "execution_count": 12
    }
   ],
   "source": [
    "real_data_df"
   ]
  },
  {
   "cell_type": "code",
   "execution_count": 13,
   "metadata": {},
   "outputs": [],
   "source": [
    "# Next step is to determine best rule indiction algorithm. Our goal is to find a rule \n",
    "# of behaviours between devices and sensors, so that our algorithm can predict properly when it should\n",
    "# activate each device. 2 algorithms I am going to compare are Decision Trees, Random Forest and Extreeme Gradient Boosted Trees."
   ]
  },
  {
   "cell_type": "code",
   "execution_count": 14,
   "metadata": {},
   "outputs": [],
   "source": [
    "from sklearn.tree import DecisionTreeClassifier\n",
    "from sklearn.ensemble import RandomForestClassifier\n",
    "from xgboost import XGBClassifier\n",
    "from sklearn import metrics\n",
    "\n",
    "from copy import deepcopy\n",
    "import itertools"
   ]
  },
  {
   "cell_type": "code",
   "execution_count": 15,
   "metadata": {},
   "outputs": [],
   "source": [
    "from sklearn.metrics import fbeta_score\n",
    "\n",
    "def f1_score(y_true, y_pred, threshold = 0.5):\n",
    "    y_pred_class = y_pred >= threshold\n",
    "    y_true = y_true == 1\n",
    "    return fbeta_score(y_true, y_pred_class, beta = 1)"
   ]
  },
  {
   "cell_type": "code",
   "execution_count": 29,
   "metadata": {},
   "outputs": [],
   "source": [
    "class AutoTuningHyperparametersPipeline(object):\n",
    "    @staticmethod\n",
    "    def standarize(X):\n",
    "        data = deepcopy(X.replace(['nan'], 0))\n",
    "        for column_name in data.columns:\n",
    "            if 'sensor' in column_name:\n",
    "                data[column_name] = (data[column_name] - data[column_name].mean())/data[column_name].std()\n",
    "        return data\n",
    "\n",
    "    @staticmethod\n",
    "    def generate_all_possible_params(params):\n",
    "        keys, values = zip(*params.items())\n",
    "        possible_params = [dict(zip(keys, v)) for v in itertools.product(*values)]\n",
    "        return possible_params\n",
    "\n",
    "    def __init__(self, model, X, y, params, cost):\n",
    "        self.model = model \n",
    "        X = self.standarize(X) \n",
    "        self.X_train = X[:int(0.7*len(X))]\n",
    "        self.X_test = X[int(0.7*len(X)):]\n",
    "        self.y_train = y[:int(0.7*len(y))]\n",
    "        self.y_test = y[int(0.7*len(y)):]\n",
    "        self.params = self.generate_all_possible_params(params)\n",
    "        self.cost = cost\n",
    "        self.best_model = None\n",
    "    \n",
    "    def fit_model(self, params):\n",
    "        model = self.model(**params)\n",
    "        model.fit(self.X_train, self.y_train)\n",
    "        predictions = model.predict(self.X_test)\n",
    "        return model, self.cost(self.y_test, predictions)\n",
    "    \n",
    "    def grid_search(self, verbose = 1):\n",
    "        models = []\n",
    "        for index, parameters in enumerate(self.params):\n",
    "            model, ratio = self.fit_model(parameters)\n",
    "            models.append([parameters, ratio])\n",
    "\n",
    "            if verbose >= 1:\n",
    "                print('{:.4f}'.format((index+1)/len(self.params)), start = '\\r')\n",
    "\n",
    "        sorted_models = [[x[0], x[1]] for x in sorted(models, key = lambda x: x[1])]\n",
    "        self.best_model = sorted_models[-1]\n",
    "        return self.best_model[0], self.best_model[1]\n",
    "\n",
    "    def random_search(self, verbose = 1, group_size = 5, iterations = 20, params = None):\n",
    "        if params:\n",
    "            params = self.generate_all_possible_params(params)\n",
    "        else:\n",
    "            params = self.params\n",
    "\n",
    "        models = []\n",
    "        for iteration in range(iterations):\n",
    "            random_group = np.random.choice(params, group_size)\n",
    "            for random_params in random_group:\n",
    "                model, ratio = self.fit_model(random_params)\n",
    "                models.append([random_params, ratio])\n",
    "\n",
    "            if verbose >= 1:\n",
    "                print('{:.4f}'.format((iteration+1)/iterations), end = '\\r')\n",
    "\n",
    "        sorted_models = [[x[0], x[1]] for x in sorted(models, key = lambda x: x[1])]\n",
    "        self.best_model = sorted_models[-1]\n",
    "        return self.best_model[0], self.best_model[1]\n",
    "\n",
    "    def genetic_search(self):\n",
    "        pass \n",
    "\n",
    "    def create_pipeline(self):\n",
    "        pass\n",
    "    "
   ]
  },
  {
   "cell_type": "code",
   "execution_count": 33,
   "metadata": {},
   "outputs": [],
   "source": [
    "MAX_DEPTH = 300\n",
    "\n",
    "XGB_PARAMS = {'n_estimators ': [20 + i*40 for i in range(5)], \n",
    "                'learning_rate': [0.01 + 0.01*i for i in range(10)], \n",
    "                'max_depth': [3 + i*30 for i in range(int((MAX_DEPTH - 3)/30))], \n",
    "                'subsample': [0.8 + i*0.05 for i in range(4)], \n",
    "                'colsample_bytree': [0.3 + i*0.05 for i in range(14)],\n",
    "                'gamma': [0, 1, 5],\n",
    "                'verbosity': [0]}\n",
    "\n",
    "X = deepcopy(real_data_df.drop(columns = ['device_1']))\n",
    "y = deepcopy(real_data_df['device_1'])\n"
   ]
  },
  {
   "cell_type": "code",
   "execution_count": 34,
   "metadata": {
    "tags": []
   },
   "outputs": [],
   "source": [
    "automl = AutoML(XGBClassifier, X, y, XGB_PARAMS, f1_score)"
   ]
  },
  {
   "cell_type": "code",
   "execution_count": 37,
   "metadata": {
    "tags": []
   },
   "outputs": [
    {
     "output_type": "stream",
     "name": "stdout",
     "text": ""
    },
    {
     "output_type": "execute_result",
     "data": {
      "text/plain": "({&#39;n_estimators &#39;: 20,\n  &#39;learning_rate&#39;: 0.09999999999999999,\n  &#39;max_depth&#39;: 183,\n  &#39;subsample&#39;: 0.9,\n  &#39;colsample_bytree&#39;: 0.6000000000000001,\n  &#39;gamma&#39;: 5,\n  &#39;verbosity&#39;: 0},\n 0.9986541049798116)"
     },
     "metadata": {},
     "execution_count": 37
    }
   ],
   "source": [
    "random_search_best_params,  = automl.random_search()"
   ]
  },
  {
   "cell_type": "code",
   "execution_count": null,
   "metadata": {},
   "outputs": [],
   "source": []
  },
  {
   "cell_type": "code",
   "execution_count": null,
   "metadata": {},
   "outputs": [],
   "source": []
  }
 ]
}